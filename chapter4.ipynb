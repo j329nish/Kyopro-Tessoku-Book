{
 "cells": [
  {
   "cell_type": "markdown",
   "id": "92b3e6b0",
   "metadata": {},
   "source": [
    "## 4.1 動的計画法の基本"
   ]
  },
  {
   "cell_type": "code",
   "execution_count": 1,
   "id": "04947073",
   "metadata": {},
   "outputs": [
    {
     "name": "stdout",
     "output_type": "stream",
     "text": [
      "8\n"
     ]
    }
   ],
   "source": [
    "# A16\n",
    "n = int(input())\n",
    "a = list(map(int, input().split()))\n",
    "b = list(map(int, input().split()))\n",
    "dp = [0] * n\n",
    "dp[1] = a[0]\n",
    "for i in range(2, n):\n",
    "    dp[i] = min(dp[i-1] + a[i-1], dp[i-2] + b[i-2])\n",
    "print(dp[n-1])"
   ]
  },
  {
   "cell_type": "code",
   "execution_count": 2,
   "id": "2df79f98",
   "metadata": {},
   "outputs": [
    {
     "name": "stdout",
     "output_type": "stream",
     "text": [
      "30\n"
     ]
    }
   ],
   "source": [
    "# B16\n",
    "n = int(input())\n",
    "h = list(map(int, input().split()))\n",
    "dp = [0] * n\n",
    "dp[1] = abs(h[0] - h[1])\n",
    "for i in range(2, n):\n",
    "    cost1 = abs(h[i-1] - h[i]) + dp[i-1]\n",
    "    cost2 = abs(h[i-2] - h[i]) + dp[i-2]\n",
    "    dp[i] = min(cost1, cost2)\n",
    "print(dp[n-1])"
   ]
  },
  {
   "cell_type": "markdown",
   "id": "b9465890",
   "metadata": {},
   "source": [
    "## 4.2 動的計画法の復元"
   ]
  },
  {
   "cell_type": "code",
   "execution_count": 3,
   "id": "cf4046d6",
   "metadata": {},
   "outputs": [
    {
     "name": "stdout",
     "output_type": "stream",
     "text": [
      "4\n",
      "1 2 4 5 "
     ]
    }
   ],
   "source": [
    "# A17\n",
    "n = int(input())\n",
    "a = list(map(int, input().split()))\n",
    "b = list(map(int, input().split()))\n",
    "dp = [0] * n\n",
    "dp[1] = a[0]\n",
    "for i in range(2, n):\n",
    "    dp[i] = min(dp[i-1] + a[i-1], dp[i-2] + b[i-2])\n",
    "\n",
    "answer = []\n",
    "place = n-1\n",
    "while (True):\n",
    "    answer.append(place + 1)\n",
    "    if (place == 0):\n",
    "        break\n",
    "\n",
    "    if (dp[place] == dp[place-1] + a[place-1]):\n",
    "        place -= 1\n",
    "    else:\n",
    "        place -= 2\n",
    "answer.reverse()\n",
    "\n",
    "print(len(answer))\n",
    "for i in range(len(answer)):\n",
    "    print(answer[i], end=' ')"
   ]
  },
  {
   "cell_type": "code",
   "execution_count": 4,
   "id": "31861b6c",
   "metadata": {},
   "outputs": [
    {
     "name": "stdout",
     "output_type": "stream",
     "text": [
      "3\n",
      "1 2 4 "
     ]
    }
   ],
   "source": [
    "# B17\n",
    "n = int(input())\n",
    "h = list(map(int, input().split()))\n",
    "dp = [0] * n\n",
    "dp[1] = abs(h[0] - h[1])\n",
    "for i in range(2, n):\n",
    "    dp[i] = min(abs(h[i-1] - h[i]) + dp[i-1], abs(h[i-2] - h[i]) + dp[i-2])\n",
    "\n",
    "answer = []\n",
    "place = n-1\n",
    "while (True):\n",
    "    answer.append(place+1)\n",
    "    if (place == 0):\n",
    "        break\n",
    "\n",
    "    if (dp[place] == dp[place-1] + abs(h[place-1] - h[place])):\n",
    "        place -= 1\n",
    "    else:\n",
    "        place -= 2\n",
    "answer.reverse()\n",
    "\n",
    "print(len(answer))\n",
    "for i in range(len(answer)):\n",
    "    print(answer[i], end=' ')"
   ]
  },
  {
   "cell_type": "markdown",
   "id": "e2847fa6",
   "metadata": {},
   "source": [
    "## 4.3 二次元のDP（1）：部分和問題"
   ]
  },
  {
   "cell_type": "code",
   "execution_count": 5,
   "id": "04bf8a4f",
   "metadata": {},
   "outputs": [
    {
     "name": "stdout",
     "output_type": "stream",
     "text": [
      "Yes\n"
     ]
    }
   ],
   "source": [
    "# A18\n",
    "n, s = map(int, input().split())\n",
    "a = list(map(int, input().split()))\n",
    "dp = [[False] * (s+1) for _ in range(n+1)]\n",
    "dp[0][0] = True\n",
    "\n",
    "for i in range(1, n+1):\n",
    "    for j in range(s+1):\n",
    "        if (dp[i-1][j] == True):\n",
    "            dp[i][j] = True\n",
    "        elif (j >= a[i-1] and dp[i-1][j-a[i-1]] == True):\n",
    "            dp[i][j] = True\n",
    "\n",
    "if (dp[n][s] == True):\n",
    "    print('Yes')\n",
    "else:\n",
    "    print('No')"
   ]
  },
  {
   "cell_type": "code",
   "execution_count": null,
   "id": "d6dc427b",
   "metadata": {},
   "outputs": [
    {
     "name": "stdout",
     "output_type": "stream",
     "text": [
      "6\n",
      "2 3 6 7 8 9 "
     ]
    }
   ],
   "source": [
    "# B18\n",
    "import sys\n",
    "n, s = map(int, input().split())\n",
    "a = list(map(int, input().split()))\n",
    "dp = [[False] * (s+1) for _ in range(n+1)]\n",
    "dp[0][0] = True\n",
    "\n",
    "for i in range(1, n+1):\n",
    "    for j in range(s+1):\n",
    "        if (dp[i-1][j] == True):\n",
    "            dp[i][j] = True\n",
    "        elif (j >= a[i-1] and dp[i-1][j-a[i-1]] == True):\n",
    "            dp[i][j] = True\n",
    "\n",
    "if (dp[n][s] != True):\n",
    "    print(-1)\n",
    "    sys.exit(0)\n",
    "\n",
    "answer = []\n",
    "place = s\n",
    "for i in reversed(range(1, n+1)):\n",
    "    if (dp[i-1][place] != True):\n",
    "        place -= a[i-1]\n",
    "        answer.append(i)\n",
    "answer.reverse()\n",
    "\n",
    "print(len(answer))\n",
    "for i in range(len(answer)):\n",
    "    print(answer[i], end=' ')"
   ]
  },
  {
   "cell_type": "markdown",
   "id": "4bdba5b6",
   "metadata": {},
   "source": [
    "## 4.4 二次元のDP（2）：ナップザック問題"
   ]
  },
  {
   "cell_type": "code",
   "execution_count": null,
   "id": "e08928d5",
   "metadata": {},
   "outputs": [
    {
     "name": "stdout",
     "output_type": "stream",
     "text": [
      "40\n"
     ]
    }
   ],
   "source": [
    "# A19\n",
    "N, W = map(int, input().split())\n",
    "w = [None] * N\n",
    "v = [None] * N\n",
    "for i in range(N):\n",
    "    w[i], v[i] = map(int, input().split())\n",
    "\n",
    "dp = [[-10**9] * (W+1) for _ in range(N+1)]\n",
    "dp[0][0] = 0\n",
    "for i in range(1, N+1):\n",
    "    for j in range(W+1):\n",
    "        if (dp[i-1][j] >= 0):\n",
    "            dp[i][j] = dp[i-1][j]\n",
    "        if (j >= w[i-1] and dp[i-1][j-w[i-1]] + v[i-1] > dp[i-1][j]):\n",
    "            dp[i][j] = dp[i-1][j-w[i-1]] + v[i-1]\n",
    "\n",
    "print(max(dp[N]))"
   ]
  },
  {
   "cell_type": "code",
   "execution_count": 8,
   "id": "42db1669",
   "metadata": {},
   "outputs": [
    {
     "name": "stdout",
     "output_type": "stream",
     "text": [
      "40\n"
     ]
    }
   ],
   "source": [
    "# B19\n",
    "N, W = map(int, input().split())\n",
    "w = [None] * N\n",
    "v = [None] * N\n",
    "for i in range(N):\n",
    "    w[i], v[i] = map(int, input().split())\n",
    "\n",
    "dp = [[10**11] * (10**5+1) for _ in range(N+1)]\n",
    "dp[0][0] = 0\n",
    "\n",
    "for i in range(1, N+1):\n",
    "    for j in range(10**5+1):\n",
    "        if (j < v[i-1]):\n",
    "            dp[i][j] = dp[i-1][j]\n",
    "        else:\n",
    "            dp[i][j] = min(dp[i-1][j-v[i-1]] + w[i-1], dp[i-1][j])\n",
    "\n",
    "answer = 0\n",
    "for i in range(10**5+1):\n",
    "    if (dp[N][i] <= W):\n",
    "        answer = i\n",
    "print(answer)"
   ]
  },
  {
   "cell_type": "markdown",
   "id": "092cdf0e",
   "metadata": {},
   "source": [
    "## 4.5 二次元のDP（3）：最長共通部分列問題"
   ]
  },
  {
   "cell_type": "code",
   "execution_count": null,
   "id": "cc6c7c19",
   "metadata": {},
   "outputs": [
    {
     "name": "stdout",
     "output_type": "stream",
     "text": [
      "3\n"
     ]
    }
   ],
   "source": [
    "# A20\n",
    "s = input()\n",
    "t = input()\n",
    "N = len(s)\n",
    "M = len(t)\n",
    "dp = [[0] * (M+1) for _ in range(N+1)]\n",
    "\n",
    "for i in range(1, N+1):\n",
    "    for j in range(1, M+1):\n",
    "        if (s[i-1] == t[j-1]):\n",
    "            dp[i][j] = max(dp[i-1][j], dp[i][j-1], dp[i-1][j-1] + 1)\n",
    "        else:\n",
    "            dp[i][j] = max(dp[i-1][j], dp[i][j-1])\n",
    "print(dp[N][M])"
   ]
  },
  {
   "cell_type": "code",
   "execution_count": null,
   "id": "ff06c791",
   "metadata": {},
   "outputs": [
    {
     "name": "stdout",
     "output_type": "stream",
     "text": [
      "4\n"
     ]
    }
   ],
   "source": [
    "# B20\n",
    "s = input()\n",
    "t = input()\n",
    "N = len(s)\n",
    "M = len(t)\n",
    "dp = [[0] * (M+1) for _ in range(N+1)]\n",
    "dp[0][0] = 0\n",
    "\n",
    "for i in range(1, N+1):\n",
    "    dp[i][0] = dp[i-1][0] + 1\n",
    "\n",
    "for i in range(1, M+1):\n",
    "    dp[0][i] = dp[0][i-1] + 1\n",
    "\n",
    "for i in range(1, N+1):\n",
    "    for j in range(1, M+1):\n",
    "        if (s[i-1] == t[j-1]):\n",
    "            dp[i][j] = min(dp[i-1][j] + 1, dp[i][j-1] + 1, dp[i-1][j-1])\n",
    "        else:\n",
    "            dp[i][j] = min(dp[i-1][j] + 1, dp[i][j-1] + 1, dp[i-1][j-1] + 1)\n",
    "print(dp[N][M])"
   ]
  },
  {
   "cell_type": "markdown",
   "id": "ade2158b",
   "metadata": {},
   "source": [
    "## 4.6 二次元のDP（3）：区間DP"
   ]
  },
  {
   "cell_type": "code",
   "execution_count": null,
   "id": "1d7b8058",
   "metadata": {},
   "outputs": [],
   "source": [
    "# A21"
   ]
  },
  {
   "cell_type": "code",
   "execution_count": null,
   "id": "9c5bc58d",
   "metadata": {},
   "outputs": [],
   "source": [
    "# B21"
   ]
  },
  {
   "cell_type": "markdown",
   "id": "cae292eb",
   "metadata": {},
   "source": [
    "## 4.7 遷移形式の工夫"
   ]
  },
  {
   "cell_type": "code",
   "execution_count": null,
   "id": "fcfb313a",
   "metadata": {},
   "outputs": [],
   "source": [
    "# A22"
   ]
  },
  {
   "cell_type": "code",
   "execution_count": null,
   "id": "0731373a",
   "metadata": {},
   "outputs": [],
   "source": [
    "# B22"
   ]
  },
  {
   "cell_type": "markdown",
   "id": "59a92676",
   "metadata": {},
   "source": [
    "## 4.8 ビットDP"
   ]
  },
  {
   "cell_type": "code",
   "execution_count": null,
   "id": "5070ac19",
   "metadata": {},
   "outputs": [],
   "source": [
    "# A23"
   ]
  },
  {
   "cell_type": "code",
   "execution_count": null,
   "id": "c29a194c",
   "metadata": {},
   "outputs": [],
   "source": [
    "# B23"
   ]
  },
  {
   "cell_type": "markdown",
   "id": "525b0abc",
   "metadata": {},
   "source": [
    "## 4.9 最長増加部分列問題"
   ]
  },
  {
   "cell_type": "code",
   "execution_count": null,
   "id": "76747050",
   "metadata": {},
   "outputs": [],
   "source": [
    "# A24"
   ]
  },
  {
   "cell_type": "code",
   "execution_count": null,
   "id": "3067ab75",
   "metadata": {},
   "outputs": [],
   "source": [
    "# B24"
   ]
  },
  {
   "cell_type": "markdown",
   "id": "37581e9c",
   "metadata": {},
   "source": [
    "## 4.10 チャレンジ問題"
   ]
  },
  {
   "cell_type": "code",
   "execution_count": null,
   "id": "0a7fa52e",
   "metadata": {},
   "outputs": [],
   "source": [
    "# A25"
   ]
  }
 ],
 "metadata": {
  "kernelspec": {
   "display_name": "atcoder",
   "language": "python",
   "name": "atcoder"
  },
  "language_info": {
   "codemirror_mode": {
    "name": "ipython",
    "version": 3
   },
   "file_extension": ".py",
   "mimetype": "text/x-python",
   "name": "python",
   "nbconvert_exporter": "python",
   "pygments_lexer": "ipython3",
   "version": "3.11.4"
  }
 },
 "nbformat": 4,
 "nbformat_minor": 5
}
