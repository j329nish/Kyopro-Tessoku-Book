{
 "cells": [
  {
   "cell_type": "markdown",
   "id": "c81ded6a",
   "metadata": {},
   "source": [
    "# 4章 動的計画法"
   ]
  },
  {
   "cell_type": "markdown",
   "id": "92b3e6b0",
   "metadata": {},
   "source": [
    "## 4.1 動的計画法の基本"
   ]
  },
  {
   "cell_type": "code",
   "execution_count": 1,
   "id": "04947073",
   "metadata": {},
   "outputs": [
    {
     "name": "stdout",
     "output_type": "stream",
     "text": [
      "8\n"
     ]
    }
   ],
   "source": [
    "# A16\n",
    "n = int(input())\n",
    "a = list(map(int, input().split()))\n",
    "b = list(map(int, input().split()))\n",
    "dp = [0] * n\n",
    "dp[1] = a[0]\n",
    "for i in range(2, n):\n",
    "    dp[i] = min(dp[i-1] + a[i-1], dp[i-2] + b[i-2])\n",
    "print(dp[n-1])"
   ]
  },
  {
   "cell_type": "code",
   "execution_count": 2,
   "id": "2df79f98",
   "metadata": {},
   "outputs": [
    {
     "name": "stdout",
     "output_type": "stream",
     "text": [
      "30\n"
     ]
    }
   ],
   "source": [
    "# B16\n",
    "n = int(input())\n",
    "h = list(map(int, input().split()))\n",
    "dp = [0] * n\n",
    "dp[1] = abs(h[0] - h[1])\n",
    "for i in range(2, n):\n",
    "    cost1 = abs(h[i-1] - h[i]) + dp[i-1]\n",
    "    cost2 = abs(h[i-2] - h[i]) + dp[i-2]\n",
    "    dp[i] = min(cost1, cost2)\n",
    "print(dp[n-1])"
   ]
  },
  {
   "cell_type": "markdown",
   "id": "b9465890",
   "metadata": {},
   "source": [
    "## 4.2 動的計画法の復元"
   ]
  },
  {
   "cell_type": "code",
   "execution_count": 3,
   "id": "cf4046d6",
   "metadata": {},
   "outputs": [
    {
     "name": "stdout",
     "output_type": "stream",
     "text": [
      "4\n",
      "1 2 4 5 "
     ]
    }
   ],
   "source": [
    "# A17\n",
    "n = int(input())\n",
    "a = list(map(int, input().split()))\n",
    "b = list(map(int, input().split()))\n",
    "dp = [0] * n\n",
    "dp[1] = a[0]\n",
    "for i in range(2, n):\n",
    "    dp[i] = min(dp[i-1] + a[i-1], dp[i-2] + b[i-2])\n",
    "\n",
    "answer = []\n",
    "place = n-1\n",
    "while (True):\n",
    "    answer.append(place + 1)\n",
    "    if (place == 0):\n",
    "        break\n",
    "\n",
    "    if (dp[place] == dp[place-1] + a[place-1]):\n",
    "        place -= 1\n",
    "    else:\n",
    "        place -= 2\n",
    "answer.reverse()\n",
    "\n",
    "print(len(answer))\n",
    "for i in range(len(answer)):\n",
    "    print(answer[i], end=' ')"
   ]
  },
  {
   "cell_type": "code",
   "execution_count": 4,
   "id": "31861b6c",
   "metadata": {},
   "outputs": [
    {
     "name": "stdout",
     "output_type": "stream",
     "text": [
      "3\n",
      "1 2 4 "
     ]
    }
   ],
   "source": [
    "# B17\n",
    "n = int(input())\n",
    "h = list(map(int, input().split()))\n",
    "dp = [0] * n\n",
    "dp[1] = abs(h[0] - h[1])\n",
    "for i in range(2, n):\n",
    "    dp[i] = min(abs(h[i-1] - h[i]) + dp[i-1], abs(h[i-2] - h[i]) + dp[i-2])\n",
    "\n",
    "answer = []\n",
    "place = n-1\n",
    "while (True):\n",
    "    answer.append(place+1)\n",
    "    if (place == 0):\n",
    "        break\n",
    "\n",
    "    if (dp[place] == dp[place-1] + abs(h[place-1] - h[place])):\n",
    "        place -= 1\n",
    "    else:\n",
    "        place -= 2\n",
    "answer.reverse()\n",
    "\n",
    "print(len(answer))\n",
    "for i in range(len(answer)):\n",
    "    print(answer[i], end=' ')"
   ]
  },
  {
   "cell_type": "markdown",
   "id": "e2847fa6",
   "metadata": {},
   "source": [
    "## 4.3 二次元のDP（1）：部分和問題"
   ]
  },
  {
   "cell_type": "code",
   "execution_count": 5,
   "id": "04bf8a4f",
   "metadata": {},
   "outputs": [
    {
     "name": "stdout",
     "output_type": "stream",
     "text": [
      "Yes\n"
     ]
    }
   ],
   "source": [
    "# A18\n",
    "n, s = map(int, input().split())\n",
    "a = list(map(int, input().split()))\n",
    "dp = [[False] * (s+1) for _ in range(n+1)]\n",
    "dp[0][0] = True\n",
    "\n",
    "for i in range(1, n+1):\n",
    "    for j in range(s+1):\n",
    "        if (dp[i-1][j] == True):\n",
    "            dp[i][j] = True\n",
    "        elif (j >= a[i-1] and dp[i-1][j-a[i-1]] == True):\n",
    "            dp[i][j] = True\n",
    "\n",
    "if (dp[n][s] == True):\n",
    "    print('Yes')\n",
    "else:\n",
    "    print('No')"
   ]
  },
  {
   "cell_type": "code",
   "execution_count": null,
   "id": "d6dc427b",
   "metadata": {},
   "outputs": [
    {
     "name": "stdout",
     "output_type": "stream",
     "text": [
      "6\n",
      "2 3 6 7 8 9 "
     ]
    }
   ],
   "source": [
    "# B18\n",
    "import sys\n",
    "n, s = map(int, input().split())\n",
    "a = list(map(int, input().split()))\n",
    "dp = [[False] * (s+1) for _ in range(n+1)]\n",
    "dp[0][0] = True\n",
    "\n",
    "for i in range(1, n+1):\n",
    "    for j in range(s+1):\n",
    "        if (dp[i-1][j] == True):\n",
    "            dp[i][j] = True\n",
    "        elif (j >= a[i-1] and dp[i-1][j-a[i-1]] == True):\n",
    "            dp[i][j] = True\n",
    "\n",
    "if (dp[n][s] != True):\n",
    "    print(-1)\n",
    "    sys.exit(0)\n",
    "\n",
    "answer = []\n",
    "place = s\n",
    "for i in reversed(range(1, n+1)):\n",
    "    if (dp[i-1][place] != True):\n",
    "        place -= a[i-1]\n",
    "        answer.append(i)\n",
    "answer.reverse()\n",
    "\n",
    "print(len(answer))\n",
    "for i in range(len(answer)):\n",
    "    print(answer[i], end=' ')"
   ]
  },
  {
   "cell_type": "markdown",
   "id": "4bdba5b6",
   "metadata": {},
   "source": [
    "## 4.4 二次元のDP（2）：ナップザック問題"
   ]
  },
  {
   "cell_type": "code",
   "execution_count": null,
   "id": "e08928d5",
   "metadata": {},
   "outputs": [
    {
     "name": "stdout",
     "output_type": "stream",
     "text": [
      "40\n"
     ]
    }
   ],
   "source": [
    "# A19\n",
    "N, W = map(int, input().split())\n",
    "w = [None] * N\n",
    "v = [None] * N\n",
    "for i in range(N):\n",
    "    w[i], v[i] = map(int, input().split())\n",
    "\n",
    "dp = [[-10**9] * (W+1) for _ in range(N+1)]\n",
    "dp[0][0] = 0\n",
    "for i in range(1, N+1):\n",
    "    for j in range(W+1):\n",
    "        if (dp[i-1][j] >= 0):\n",
    "            dp[i][j] = dp[i-1][j]\n",
    "        if (j >= w[i-1] and dp[i-1][j-w[i-1]] + v[i-1] > dp[i-1][j]):\n",
    "            dp[i][j] = dp[i-1][j-w[i-1]] + v[i-1]\n",
    "\n",
    "print(max(dp[N]))"
   ]
  },
  {
   "cell_type": "code",
   "execution_count": 8,
   "id": "42db1669",
   "metadata": {},
   "outputs": [
    {
     "name": "stdout",
     "output_type": "stream",
     "text": [
      "40\n"
     ]
    }
   ],
   "source": [
    "# B19\n",
    "N, W = map(int, input().split())\n",
    "w = [None] * N\n",
    "v = [None] * N\n",
    "for i in range(N):\n",
    "    w[i], v[i] = map(int, input().split())\n",
    "\n",
    "dp = [[10**11] * (10**5+1) for _ in range(N+1)]\n",
    "dp[0][0] = 0\n",
    "\n",
    "for i in range(1, N+1):\n",
    "    for j in range(10**5+1):\n",
    "        if (j < v[i-1]):\n",
    "            dp[i][j] = dp[i-1][j]\n",
    "        else:\n",
    "            dp[i][j] = min(dp[i-1][j-v[i-1]] + w[i-1], dp[i-1][j])\n",
    "\n",
    "answer = 0\n",
    "for i in range(10**5+1):\n",
    "    if (dp[N][i] <= W):\n",
    "        answer = i\n",
    "print(answer)"
   ]
  },
  {
   "cell_type": "markdown",
   "id": "092cdf0e",
   "metadata": {},
   "source": [
    "## 4.5 二次元のDP（3）：最長共通部分列問題"
   ]
  },
  {
   "cell_type": "code",
   "execution_count": null,
   "id": "cc6c7c19",
   "metadata": {},
   "outputs": [
    {
     "name": "stdout",
     "output_type": "stream",
     "text": [
      "3\n"
     ]
    }
   ],
   "source": [
    "# A20\n",
    "s = input()\n",
    "t = input()\n",
    "N = len(s)\n",
    "M = len(t)\n",
    "dp = [[0] * (M+1) for _ in range(N+1)]\n",
    "\n",
    "for i in range(1, N+1):\n",
    "    for j in range(1, M+1):\n",
    "        if (s[i-1] == t[j-1]):\n",
    "            dp[i][j] = max(dp[i-1][j], dp[i][j-1], dp[i-1][j-1] + 1)\n",
    "        else:\n",
    "            dp[i][j] = max(dp[i-1][j], dp[i][j-1])\n",
    "print(dp[N][M])"
   ]
  },
  {
   "cell_type": "code",
   "execution_count": null,
   "id": "ff06c791",
   "metadata": {},
   "outputs": [
    {
     "name": "stdout",
     "output_type": "stream",
     "text": [
      "4\n"
     ]
    }
   ],
   "source": [
    "# B20\n",
    "s = input()\n",
    "t = input()\n",
    "N = len(s)\n",
    "M = len(t)\n",
    "dp = [[0] * (M+1) for _ in range(N+1)]\n",
    "dp[0][0] = 0\n",
    "\n",
    "for i in range(1, N+1):\n",
    "    dp[i][0] = dp[i-1][0] + 1\n",
    "\n",
    "for i in range(1, M+1):\n",
    "    dp[0][i] = dp[0][i-1] + 1\n",
    "\n",
    "for i in range(1, N+1):\n",
    "    for j in range(1, M+1):\n",
    "        if (s[i-1] == t[j-1]):\n",
    "            dp[i][j] = min(dp[i-1][j] + 1, dp[i][j-1] + 1, dp[i-1][j-1])\n",
    "        else:\n",
    "            dp[i][j] = min(dp[i-1][j] + 1, dp[i][j-1] + 1, dp[i-1][j-1] + 1)\n",
    "print(dp[N][M])"
   ]
  },
  {
   "cell_type": "markdown",
   "id": "ade2158b",
   "metadata": {},
   "source": [
    "## 4.6 二次元のDP（3）：区間DP"
   ]
  },
  {
   "cell_type": "code",
   "execution_count": 2,
   "id": "1d7b8058",
   "metadata": {},
   "outputs": [
    {
     "name": "stdout",
     "output_type": "stream",
     "text": [
      "60\n"
     ]
    }
   ],
   "source": [
    "# A21\n",
    "n = int(input())\n",
    "p = [None] * n\n",
    "a = [None] * n\n",
    "for i in range(n):\n",
    "    p[i], a[i] = map(int, input().split())\n",
    "dp = [[0] * (n+1) for _ in range(n+1)]\n",
    "dp[1][n] = 0\n",
    "\n",
    "for LEN in reversed(range(n-1)):\n",
    "    for l in range(1, n+1-LEN):\n",
    "        r = l+LEN\n",
    "        score1 = 0\n",
    "        if (l > 1 and l <= p[l-2] and p[l-2] <= r):\n",
    "            score1 = a[l-2]\n",
    "\n",
    "        score2 = 0\n",
    "        if (r < n and l <= p[r] and p[r] <= r):\n",
    "            score2 = a[r]\n",
    "\n",
    "        if (l == 1):\n",
    "            dp[l][r] = dp[l][r+1] + score2\n",
    "        elif (r == n):\n",
    "            dp[l][r] = dp[l-1][r] + score1\n",
    "        else:\n",
    "            dp[l][r] = max(dp[l-1][r] + score1, dp[l][r+1] + score2)\n",
    "\n",
    "answer = 0\n",
    "for i in range(1, n+1):\n",
    "    answer = max(answer, dp[i][i])\n",
    "print(answer)"
   ]
  },
  {
   "cell_type": "code",
   "execution_count": 3,
   "id": "9c5bc58d",
   "metadata": {},
   "outputs": [
    {
     "name": "stdout",
     "output_type": "stream",
     "text": [
      "4\n"
     ]
    }
   ],
   "source": [
    "# B21\n",
    "n = int(input())\n",
    "s = input()\n",
    "dp = [[0] * n for _ in range(n)]\n",
    "for i in range(n):\n",
    "    dp[i][i] = 1\n",
    "for i in range(n-1):\n",
    "    if (s[i] == s[i+1]):\n",
    "        dp[i][i+1] = 2\n",
    "    else:\n",
    "        dp[i][i+1] = 1\n",
    "\n",
    "for LEN in range(2, n):\n",
    "    for l in range(n-LEN):\n",
    "        r = l + LEN\n",
    "        if (s[l] == s[r]):\n",
    "            dp[l][r] = max(dp[l][r-1], dp[l+1][r], dp[l+1][r-1] + 2)\n",
    "        else:\n",
    "            dp[l][r] = max(dp[l][r-1], dp[l+1][r])\n",
    "\n",
    "print(dp[0][n-1])"
   ]
  },
  {
   "cell_type": "markdown",
   "id": "cae292eb",
   "metadata": {},
   "source": [
    "## 4.7 遷移形式の工夫"
   ]
  },
  {
   "cell_type": "code",
   "execution_count": 5,
   "id": "fcfb313a",
   "metadata": {},
   "outputs": [
    {
     "name": "stdout",
     "output_type": "stream",
     "text": [
      "500\n"
     ]
    }
   ],
   "source": [
    "# A22\n",
    "n = int(input())\n",
    "a = list(map(int, input().split()))\n",
    "b = list(map(int ,input().split()))\n",
    "dp = [0] * n\n",
    "\n",
    "for i in range(n-1):\n",
    "    dp[a[i]-1] = max(dp[a[i]-1], dp[i]+100)\n",
    "    dp[b[i]-1] = max(dp[b[i]-1], dp[i]+150)\n",
    "print(dp[n-1])"
   ]
  },
  {
   "cell_type": "code",
   "execution_count": 6,
   "id": "0731373a",
   "metadata": {},
   "outputs": [
    {
     "name": "stdout",
     "output_type": "stream",
     "text": [
      "8\n"
     ]
    }
   ],
   "source": [
    "# B22\n",
    "n = int(input())\n",
    "a = list(map(int, input().split()))\n",
    "b = list(map(int, input().split()))\n",
    "dp = [0] * n\n",
    "dp[1] = a[0]\n",
    "\n",
    "for i in range(2, n):\n",
    "    dp[i] = min(dp[i-1]+a[i-1], dp[i-2]+b[i-2])\n",
    "print(dp[n-1])"
   ]
  },
  {
   "cell_type": "markdown",
   "id": "59a92676",
   "metadata": {},
   "source": [
    "## 4.8 ビットDP"
   ]
  },
  {
   "cell_type": "code",
   "execution_count": 9,
   "id": "5070ac19",
   "metadata": {},
   "outputs": [
    {
     "name": "stdout",
     "output_type": "stream",
     "text": [
      "2\n"
     ]
    }
   ],
   "source": [
    "# A23\n",
    "n, m = map(int, input().split())\n",
    "a = [None] * m\n",
    "for i in range(m):\n",
    "    a[i] = list(map(int, input().split()))\n",
    "dp = [[10**9] * (2**n) for _ in range(m+1)]\n",
    "dp[0][0] = 0\n",
    "\n",
    "for i in range(1, m+1):\n",
    "    for j in range(2**n):\n",
    "        already = [None] * n\n",
    "        for k in range(n):\n",
    "            if ((j // (2 ** k)) % 2 == 0):\n",
    "                already[k] = 0\n",
    "            else:\n",
    "                already[k] = 1\n",
    "        v = 0\n",
    "        for k in range(n):\n",
    "            if (already[k] == 1 or a[i-1][k] == 1):\n",
    "                v += (2 ** k)\n",
    "        dp[i][j] = min(dp[i][j], dp[i-1][j])\n",
    "        dp[i][v] = min(dp[i][v], dp[i-1][j] + 1)\n",
    "\n",
    "if (dp[m][2**n-1] == 10**9):\n",
    "    print(-1)\n",
    "else:\n",
    "    print(dp[m][2**n-1])"
   ]
  },
  {
   "cell_type": "code",
   "execution_count": 10,
   "id": "c29a194c",
   "metadata": {},
   "outputs": [
    {
     "name": "stdout",
     "output_type": "stream",
     "text": [
      "4.0\n"
     ]
    }
   ],
   "source": [
    "# B23\n",
    "n = int(input())\n",
    "x = [None] * n\n",
    "y = [None] * n\n",
    "for i in range(n):\n",
    "    x[i], y[i] = map(int, input().split())\n",
    "dp = [[10**9] * n for _ in range(2**n)]\n",
    "dp[0][0] = 0\n",
    "for i in range(2**n):\n",
    "    for j in range(n):\n",
    "        if (dp[i][j] < 10**9):\n",
    "            for k in range(n):\n",
    "                if ((i // (2**k)) % 2 == 0):\n",
    "                    dist = (((x[j]-x[k])*(x[j]-x[k]) + (y[j]-y[k])*(y[j]-y[k])) ** 0.5)\n",
    "                    dp[i+2**k][k] = min(dp[i+2**k][k], dp[i][j]+dist)\n",
    "print(dp[2**n-1][0])"
   ]
  },
  {
   "cell_type": "markdown",
   "id": "525b0abc",
   "metadata": {},
   "source": [
    "## 4.9 最長増加部分列問題"
   ]
  },
  {
   "cell_type": "code",
   "execution_count": 11,
   "id": "76747050",
   "metadata": {},
   "outputs": [
    {
     "name": "stdout",
     "output_type": "stream",
     "text": [
      "4\n"
     ]
    }
   ],
   "source": [
    "# A24\n",
    "import bisect\n",
    "n = int(input())\n",
    "a = list(map(int, input().split()))\n",
    "l = []\n",
    "dp = [None] * n\n",
    "\n",
    "for i in range(n):\n",
    "    dp[i] = bisect.bisect_left(l, a[i])\n",
    "    if (dp[i] >= len(l)):\n",
    "        l.append(a[i])\n",
    "    else:\n",
    "        l[dp[i]] = a[i]\n",
    "print(len(l))"
   ]
  },
  {
   "cell_type": "code",
   "execution_count": 12,
   "id": "3067ab75",
   "metadata": {},
   "outputs": [
    {
     "name": "stdout",
     "output_type": "stream",
     "text": [
      "3\n"
     ]
    }
   ],
   "source": [
    "# B24\n",
    "import bisect\n",
    "n = int(input())\n",
    "x = [None] * n\n",
    "y = [None] * n\n",
    "for i in range(n):\n",
    "\tx[i], y[i] = map(int, input().split())\n",
    "\n",
    "def Get_LISvalue(a):\n",
    "\tLEN = 0\n",
    "\tl = []\n",
    "\tfor i in range(n):\n",
    "\t\tpos = bisect.bisect_left(l, a[i])\n",
    "\t\tif pos == LEN:\n",
    "\t\t\tl.append(a[i])\n",
    "\t\t\tLEN += 1\n",
    "\t\telse:\n",
    "\t\t\tl[pos] = a[i]\n",
    "\treturn LEN\n",
    "\n",
    "tmp = []\n",
    "for i in range(n):\n",
    "\ttmp.append([x[i], -y[i]])\n",
    "tmp.sort()\n",
    "a = []\n",
    "for i in range(n):\n",
    "\ta.append(-tmp[i][1])\n",
    "print(Get_LISvalue(a))"
   ]
  },
  {
   "cell_type": "markdown",
   "id": "37581e9c",
   "metadata": {},
   "source": [
    "## 4.10 チャレンジ問題"
   ]
  },
  {
   "cell_type": "code",
   "execution_count": 1,
   "id": "0a7fa52e",
   "metadata": {},
   "outputs": [
    {
     "name": "stdout",
     "output_type": "stream",
     "text": [
      "35\n"
     ]
    }
   ],
   "source": [
    "# A25\n",
    "h, w = map(int, input().split())\n",
    "c = [None] * h\n",
    "for i in range(h):\n",
    "    c[i] = input()\n",
    "dp = [[0] * w for _ in range(h)]\n",
    "\n",
    "for i in range(h):\n",
    "    for j in range(w):\n",
    "        if (i == 0 and j == 0):\n",
    "            dp[i][j] = 1\n",
    "        else:\n",
    "            if (i >= 1 and c[i-1][j] == '.'):\n",
    "                dp[i][j] += dp[i-1][j]\n",
    "            if (j >= 1 and c[i][j-1] == '.'):\n",
    "                dp[i][j] += dp[i][j-1]\n",
    "print(dp[h-1][w-1])"
   ]
  }
 ],
 "metadata": {
  "kernelspec": {
   "display_name": "atcoder",
   "language": "python",
   "name": "atcoder"
  },
  "language_info": {
   "codemirror_mode": {
    "name": "ipython",
    "version": 3
   },
   "file_extension": ".py",
   "mimetype": "text/x-python",
   "name": "python",
   "nbconvert_exporter": "python",
   "pygments_lexer": "ipython3",
   "version": "3.11.4"
  }
 },
 "nbformat": 4,
 "nbformat_minor": 5
}
