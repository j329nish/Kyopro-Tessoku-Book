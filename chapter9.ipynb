{
 "cells": [
  {
   "cell_type": "markdown",
   "id": "5c7279be",
   "metadata": {},
   "source": [
    "# 9章 グラフアルゴリズム"
   ]
  },
  {
   "cell_type": "markdown",
   "id": "b05a13aa",
   "metadata": {},
   "source": [
    "## 9.1 グラフの実装方法"
   ]
  },
  {
   "cell_type": "code",
   "execution_count": null,
   "id": "631a85fe",
   "metadata": {},
   "outputs": [
    {
     "name": "stdout",
     "output_type": "stream",
     "text": [
      "1: {2}\n",
      "2: {1, 3}\n",
      "3: {2, 4, 5}\n",
      "4: {3}\n",
      "5: {3}\n"
     ]
    }
   ],
   "source": [
    "# A61\n",
    "N, M = map(int, input().split())\n",
    "G = [list() for i in range(N+1)]\n",
    "for _ in range(M):\n",
    "    a, b = map(int, input().split())\n",
    "    G[a].append(str(b))\n",
    "    G[b].append(str(a))\n",
    "\n",
    "for i in range(1, N+1):\n",
    "    print(f\"{i}: {{{', '.join(G[i])}}}\")"
   ]
  },
  {
   "cell_type": "code",
   "execution_count": null,
   "id": "fed374f0",
   "metadata": {},
   "outputs": [
    {
     "name": "stdout",
     "output_type": "stream",
     "text": [
      "3\n"
     ]
    }
   ],
   "source": [
    "# B61\n",
    "N, M = map(int, input().split())\n",
    "G = [list() for i in range(N+1)]\n",
    "for _ in range(M):\n",
    "    a, b = map(int, input().split())\n",
    "    G[a].append(str(b))\n",
    "    G[b].append(str(a))\n",
    "\n",
    "Answer = 0\n",
    "Max = 0\n",
    "for i in range(1, N+1):\n",
    "    if (len(G[i]) >= Max):\n",
    "        Max = len(G[i])\n",
    "        Answer = i\n",
    "print(Answer)"
   ]
  },
  {
   "cell_type": "markdown",
   "id": "a3ddafdc",
   "metadata": {},
   "source": [
    "## 9.2 深さ優先探索"
   ]
  },
  {
   "cell_type": "code",
   "execution_count": null,
   "id": "c681a973",
   "metadata": {},
   "outputs": [
    {
     "name": "stdout",
     "output_type": "stream",
     "text": [
      "The graph is connected.\n"
     ]
    }
   ],
   "source": [
    "# A62\n",
    "import sys\n",
    "sys.setrecursionlimit(120000)\n",
    "\n",
    "N, M = map(int, input().split())\n",
    "G = [list() for i in range(N+1)]\n",
    "for _ in range(M):\n",
    "    a, b = map(int, input().split())\n",
    "    G[a].append(b)\n",
    "    G[b].append(a)\n",
    "\n",
    "def dfs(pos, G, used):\n",
    "    used[pos] = True\n",
    "    for i in G[pos]:\n",
    "        if (used[i] == False):\n",
    "            dfs(i, G, used)\n",
    "\n",
    "used = [False] * (N+1)\n",
    "dfs(1, G, used)\n",
    "\n",
    "Answer = True\n",
    "for i in range(1, N+1):\n",
    "    if (used[i] == False):\n",
    "        Answer = False\n",
    "        break\n",
    "\n",
    "if Answer:\n",
    "    print(\"The graph is connected.\")\n",
    "else:\n",
    "    print(\"The graph is not connected.\")"
   ]
  },
  {
   "cell_type": "code",
   "execution_count": null,
   "id": "ff632ee0",
   "metadata": {},
   "outputs": [],
   "source": [
    "# B62\n",
    "import sys\n",
    "sys.setrecursionlimit(120000)\n",
    "\n",
    "N, M = map(int, input().split())\n",
    "G = [list() for i in range(N+1)]\n",
    "for _ in range(M):\n",
    "    a, b = map(int, input().split())\n",
    "    G[a].append(b)\n",
    "    G[b].append(a)\n",
    "\n",
    "def dfs(pos, G, used, pre):\n",
    "    used[pos] = pre\n",
    "    pre = pos\n",
    "    for i in G[pos]:\n",
    "        if (used[i] == None):\n",
    "            dfs(i, G, used, pre)\n",
    "\n",
    "used = [None] * (N+1)\n",
    "dfs(1, G, used, -1)\n",
    "\n",
    "Answer = []\n",
    "i = N\n",
    "while (True):\n",
    "    if (used[i] == -1):\n",
    "        Answer.append(str(i))\n",
    "        break\n",
    "    Answer.append(str(i))\n",
    "    i = used[i]\n",
    "\n",
    "print(' '.join(reversed(Answer)))"
   ]
  },
  {
   "cell_type": "markdown",
   "id": "309ffc2d",
   "metadata": {},
   "source": [
    "## 9.3 幅優先探索"
   ]
  },
  {
   "cell_type": "code",
   "execution_count": null,
   "id": "045f992a",
   "metadata": {},
   "outputs": [],
   "source": [
    "# A63\n",
    "N, M = map(int, input().split())\n",
    "A, B = [None] * M, [None] * M\n",
    "for i in range(M):\n",
    "    A[i], B[i] = map(int, input().split())\n"
   ]
  },
  {
   "cell_type": "code",
   "execution_count": null,
   "id": "d25b9e73",
   "metadata": {},
   "outputs": [],
   "source": [
    "# B63\n"
   ]
  },
  {
   "cell_type": "markdown",
   "id": "f979f33e",
   "metadata": {},
   "source": [
    "## 9.4 ダイクストラ法"
   ]
  },
  {
   "cell_type": "code",
   "execution_count": null,
   "id": "5805aacc",
   "metadata": {},
   "outputs": [],
   "source": [
    "# A64\n"
   ]
  },
  {
   "cell_type": "code",
   "execution_count": null,
   "id": "8fa58fe5",
   "metadata": {},
   "outputs": [],
   "source": [
    "# B64\n"
   ]
  },
  {
   "cell_type": "markdown",
   "id": "b00a3ff6",
   "metadata": {},
   "source": [
    "## 9.5 木に対する動的計画法"
   ]
  },
  {
   "cell_type": "code",
   "execution_count": null,
   "id": "5351ea3f",
   "metadata": {},
   "outputs": [],
   "source": [
    "# A65\n"
   ]
  },
  {
   "cell_type": "code",
   "execution_count": null,
   "id": "6d370110",
   "metadata": {},
   "outputs": [],
   "source": [
    "# B65\n"
   ]
  },
  {
   "cell_type": "markdown",
   "id": "14cc3eb5",
   "metadata": {},
   "source": [
    "## 9.6 Union-Find木"
   ]
  },
  {
   "cell_type": "code",
   "execution_count": null,
   "id": "0e87a5e3",
   "metadata": {},
   "outputs": [],
   "source": [
    "# A66\n"
   ]
  },
  {
   "cell_type": "code",
   "execution_count": null,
   "id": "dcad15e8",
   "metadata": {},
   "outputs": [],
   "source": [
    "# B66\n"
   ]
  },
  {
   "cell_type": "markdown",
   "id": "d77a1044",
   "metadata": {},
   "source": [
    "## 9.7 最小全域木問題"
   ]
  },
  {
   "cell_type": "code",
   "execution_count": null,
   "id": "e071080c",
   "metadata": {},
   "outputs": [],
   "source": [
    "# A67\n"
   ]
  },
  {
   "cell_type": "code",
   "execution_count": null,
   "id": "c3a7e5a7",
   "metadata": {},
   "outputs": [],
   "source": [
    "# B67\n"
   ]
  },
  {
   "cell_type": "markdown",
   "id": "8388f8ae",
   "metadata": {},
   "source": [
    "## 9.8 最大フロー問題"
   ]
  },
  {
   "cell_type": "code",
   "execution_count": null,
   "id": "e2eb985d",
   "metadata": {},
   "outputs": [],
   "source": [
    "# A68\n"
   ]
  },
  {
   "cell_type": "code",
   "execution_count": null,
   "id": "919f46e4",
   "metadata": {},
   "outputs": [],
   "source": [
    "# B68\n"
   ]
  },
  {
   "cell_type": "markdown",
   "id": "2bb52133",
   "metadata": {},
   "source": [
    "## 9.9 二部マッチング問題"
   ]
  },
  {
   "cell_type": "code",
   "execution_count": null,
   "id": "45c20da5",
   "metadata": {},
   "outputs": [],
   "source": [
    "# A69\n"
   ]
  },
  {
   "cell_type": "code",
   "execution_count": null,
   "id": "f131972b",
   "metadata": {},
   "outputs": [],
   "source": [
    "# B69\n"
   ]
  },
  {
   "cell_type": "markdown",
   "id": "d11f138d",
   "metadata": {},
   "source": [
    "## 9.10 チャレンジ問題"
   ]
  },
  {
   "cell_type": "code",
   "execution_count": null,
   "id": "12a4914c",
   "metadata": {},
   "outputs": [],
   "source": [
    "# A70\n"
   ]
  }
 ],
 "metadata": {
  "kernelspec": {
   "display_name": "atcoder",
   "language": "python",
   "name": "atcoder"
  },
  "language_info": {
   "codemirror_mode": {
    "name": "ipython",
    "version": 3
   },
   "file_extension": ".py",
   "mimetype": "text/x-python",
   "name": "python",
   "nbconvert_exporter": "python",
   "pygments_lexer": "ipython3",
   "version": "3.11.4"
  }
 },
 "nbformat": 4,
 "nbformat_minor": 5
}
