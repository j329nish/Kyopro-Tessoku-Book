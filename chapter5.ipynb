{
 "cells": [
  {
   "cell_type": "markdown",
   "id": "21d8b591",
   "metadata": {},
   "source": [
    "# 5章 数学的問題"
   ]
  },
  {
   "cell_type": "markdown",
   "id": "a609c709",
   "metadata": {},
   "source": [
    "## 5.1 素数判定"
   ]
  },
  {
   "cell_type": "code",
   "execution_count": 2,
   "id": "d7eff12a",
   "metadata": {},
   "outputs": [
    {
     "name": "stdout",
     "output_type": "stream",
     "text": [
      "Yes\n",
      "Yes\n",
      "No\n",
      "No\n"
     ]
    }
   ],
   "source": [
    "# A26\n",
    "Q = int(input())\n",
    "X = [None] * Q\n",
    "for i in range(Q):\n",
    "    X[i] = int(input())\n",
    "\n",
    "def isPrime(x):\n",
    "    for i in range(2, int(x**0.5)+1):\n",
    "        if (x % i == 0):\n",
    "            return False\n",
    "    return True\n",
    "\n",
    "for i in range(Q):\n",
    "    if (isPrime(X[i])):\n",
    "        print('Yes')\n",
    "    else:\n",
    "        print('No')"
   ]
  },
  {
   "cell_type": "code",
   "execution_count": 3,
   "id": "c0d3b3a3",
   "metadata": {},
   "outputs": [
    {
     "name": "stdout",
     "output_type": "stream",
     "text": [
      "2\n",
      "3\n",
      "5\n",
      "7\n",
      "11\n",
      "13\n",
      "17\n",
      "19\n"
     ]
    }
   ],
   "source": [
    "# B26\n",
    "N = int(input())\n",
    "Prime = [True] * (10**6+1)\n",
    "Prime[0] = False\n",
    "Prime[1] = False\n",
    "pos = 2\n",
    "while (True):\n",
    "    for i in range(pos*2, N+1, pos):\n",
    "        Prime[i] = False\n",
    "    if (pos > int(N**0.5)+1):\n",
    "        break\n",
    "    pos += 1\n",
    "    while (Prime[pos] == False):\n",
    "        pos += 1\n",
    "\n",
    "for i in range(N+1):\n",
    "    if (Prime[i]):\n",
    "        print(i)"
   ]
  },
  {
   "cell_type": "markdown",
   "id": "c26fc180",
   "metadata": {},
   "source": [
    "## 5.2 最大公約数"
   ]
  },
  {
   "cell_type": "code",
   "execution_count": 4,
   "id": "bb73a109",
   "metadata": {},
   "outputs": [
    {
     "name": "stdout",
     "output_type": "stream",
     "text": [
      "11\n"
     ]
    }
   ],
   "source": [
    "# A27\n",
    "A, B = map(int, input().split())\n",
    "while (A >= 1 and B >= 1):\n",
    "    if (A >= B):\n",
    "        A %= B\n",
    "    else:\n",
    "        B %= A\n",
    "print(max(A, B))"
   ]
  },
  {
   "cell_type": "code",
   "execution_count": 5,
   "id": "58a46365",
   "metadata": {},
   "outputs": [
    {
     "name": "stdout",
     "output_type": "stream",
     "text": [
      "150\n"
     ]
    }
   ],
   "source": [
    "# B27\n",
    "A, B = map(int, input().split())\n",
    "Prod = A * B\n",
    "while (A >= 1 and B >= 1):\n",
    "    if (A >= B):\n",
    "        A %= B\n",
    "    else:\n",
    "        B %= A\n",
    "print(Prod // max(A, B))"
   ]
  },
  {
   "cell_type": "markdown",
   "id": "79a24860",
   "metadata": {},
   "source": [
    "## 5.3 余りの計算（1）：基本"
   ]
  },
  {
   "cell_type": "code",
   "execution_count": 6,
   "id": "e3e2e562",
   "metadata": {},
   "outputs": [
    {
     "name": "stdout",
     "output_type": "stream",
     "text": [
      "57\n",
      "100\n",
      "0\n",
      "9999\n"
     ]
    }
   ],
   "source": [
    "# A28\n",
    "N = int(input())\n",
    "T, A = [None] * N, [None] * N\n",
    "for i in range(N):\n",
    "    T[i], A[i] = input().split()\n",
    "    A[i] = int(A[i])\n",
    "\n",
    "Answer = 0\n",
    "for i in range(N):\n",
    "    if (T[i] == '+'):\n",
    "        Answer += A[i]\n",
    "    elif (T[i] == '-'):\n",
    "        Answer -= A[i]\n",
    "    else:\n",
    "        Answer *= A[i]\n",
    "    Answer = (Answer+10**4) % 10**4\n",
    "    print(Answer)"
   ]
  },
  {
   "cell_type": "code",
   "execution_count": 7,
   "id": "30533810",
   "metadata": {},
   "outputs": [
    {
     "name": "stdout",
     "output_type": "stream",
     "text": [
      "8\n"
     ]
    }
   ],
   "source": [
    "# B28\n",
    "N = int(input())\n",
    "a = [1] * (N+1)\n",
    "for i in range(3, N+1):\n",
    "    a[i] = (a[i-2] + a[i-1]) % (10**9+7)\n",
    "print(a[N])"
   ]
  },
  {
   "cell_type": "markdown",
   "id": "e0017f3c",
   "metadata": {},
   "source": [
    "## 5.4 余りの計算（2）：累乗"
   ]
  },
  {
   "cell_type": "code",
   "execution_count": 8,
   "id": "2d231f43",
   "metadata": {},
   "outputs": [
    {
     "name": "stdout",
     "output_type": "stream",
     "text": [
      "871631629\n"
     ]
    }
   ],
   "source": [
    "# A29\n",
    "a, b = map(int, input().split())\n",
    "def Power(a, b, m):\n",
    "    p = a\n",
    "    Answer = 1\n",
    "    for i in range(30):\n",
    "        if ((b // (2**i)) % 2 == 1):\n",
    "            Answer = (Answer * p) % m\n",
    "        p = (p * p) % m\n",
    "    return Answer\n",
    "print(Power(a, b, 10**9+7))"
   ]
  },
  {
   "cell_type": "code",
   "execution_count": 9,
   "id": "7e8f9861",
   "metadata": {},
   "outputs": [
    {
     "name": "stdout",
     "output_type": "stream",
     "text": [
      "216\n"
     ]
    }
   ],
   "source": [
    "# B29\n",
    "a, b = map(int, input().split())\n",
    "def Power(a, b, m):\n",
    "    p = a\n",
    "    Answer = 1\n",
    "    for i in range(60):\n",
    "        if ((b // (2**i)) % 2 == 1):\n",
    "            Answer = (Answer * p) % m\n",
    "        p = (p * p) % m\n",
    "    return Answer\n",
    "print(Power(a, b, 10**9+7))"
   ]
  },
  {
   "cell_type": "markdown",
   "id": "0fe8509f",
   "metadata": {},
   "source": [
    "## 5.5 余りの計算（3）：割り算"
   ]
  },
  {
   "cell_type": "code",
   "execution_count": 11,
   "id": "64affdbf",
   "metadata": {},
   "outputs": [
    {
     "name": "stdout",
     "output_type": "stream",
     "text": [
      "6\n"
     ]
    }
   ],
   "source": [
    "# A30\n",
    "n, r = map(int, input().split())\n",
    "roop = min(n-r, r)\n",
    "m = 10**9+7\n",
    "\n",
    "def Power(a, b, m):\n",
    "    p = a\n",
    "    Answer = 1\n",
    "    for i in range(30):\n",
    "        if ((b // (2**i)) % 2 == 1):\n",
    "            Answer = (Answer * p) % m\n",
    "        p = (p * p) % m\n",
    "    return Answer\n",
    "\n",
    "num = 1\n",
    "deno = 1\n",
    "for i in range(1, roop+1):\n",
    "    num = (num * (i+(n-roop))) % m\n",
    "    deno = (deno * i) % m\n",
    "\n",
    "print((num * Power(deno, m-2, m)) % m)"
   ]
  },
  {
   "cell_type": "code",
   "execution_count": 12,
   "id": "4287df0a",
   "metadata": {},
   "outputs": [
    {
     "name": "stdout",
     "output_type": "stream",
     "text": [
      "1\n"
     ]
    }
   ],
   "source": [
    "# B30\n",
    "H, W = map(int, input().split())\n",
    "\n",
    "def Power(a, b, m):\n",
    "    p = a\n",
    "    Answer = 1\n",
    "    for i in range(30):\n",
    "        if ((b // (2**i)) % 2 == 1):\n",
    "            Answer = (Answer * p) % m\n",
    "        p = (p * p) % m\n",
    "    return Answer\n",
    "\n",
    "def nCr(n, r):\n",
    "    roop = min(n-r, r)\n",
    "    m = 10**9+7\n",
    "    num = 1\n",
    "    deno = 1\n",
    "    for i in range(1, roop+1):\n",
    "        num = (num * (i+(n-roop))) % m\n",
    "        deno = (deno * i) % m\n",
    "    return (num * Power(deno, m-2, m)) % m\n",
    "\n",
    "print(nCr(H+W-2, W-1))"
   ]
  },
  {
   "cell_type": "markdown",
   "id": "21558bc1",
   "metadata": {},
   "source": [
    "## 5.6 包除原理"
   ]
  },
  {
   "cell_type": "code",
   "execution_count": 13,
   "id": "75b8de0f",
   "metadata": {},
   "outputs": [
    {
     "name": "stdout",
     "output_type": "stream",
     "text": [
      "5\n"
     ]
    }
   ],
   "source": [
    "# A31\n",
    "N = int(input())\n",
    "print(N//3+N//5-N//15)"
   ]
  },
  {
   "cell_type": "code",
   "execution_count": 14,
   "id": "5bc9d5b6",
   "metadata": {},
   "outputs": [
    {
     "name": "stdout",
     "output_type": "stream",
     "text": [
      "6\n"
     ]
    }
   ],
   "source": [
    "# B31\n",
    "N = int(input())\n",
    "E1 = N//3 + N//5 + N//7\n",
    "E2 = N//15 + N//21 + N//35\n",
    "E3 = N//(3*5*7)\n",
    "print(E1-E2+E3)"
   ]
  },
  {
   "cell_type": "markdown",
   "id": "6846b6bd",
   "metadata": {},
   "source": [
    "## 5.7 ゲーム（1）：必勝法"
   ]
  },
  {
   "cell_type": "code",
   "execution_count": null,
   "id": "d89fe398",
   "metadata": {},
   "outputs": [
    {
     "name": "stdout",
     "output_type": "stream",
     "text": [
      "First\n"
     ]
    }
   ],
   "source": [
    "# A32\n",
    "N, A, B = map(int, input().split())\n",
    "dp = [None] * (N+1)\n",
    "for i in range(N+1):\n",
    "    if (i >= A and dp[i-A] == False):\n",
    "        dp[i] = True\n",
    "    elif (i >= B and dp[i-B] == False):\n",
    "        dp[i] = True\n",
    "    else:\n",
    "        dp[i] = False\n",
    "\n",
    "if dp[N]:\n",
    "    print('First')\n",
    "else:\n",
    "    print('Second')"
   ]
  },
  {
   "cell_type": "code",
   "execution_count": 16,
   "id": "233d715a",
   "metadata": {},
   "outputs": [
    {
     "name": "stdout",
     "output_type": "stream",
     "text": [
      "First\n"
     ]
    }
   ],
   "source": [
    "# B32\n",
    "N, K = map(int, input().split())\n",
    "a = list(map(int, input().split()))\n",
    "dp = [None] * (N+1)\n",
    "for i in range(N+1):\n",
    "    for j in range(K):\n",
    "        if (i >= a[j] and dp[i-a[j]] == False):\n",
    "            dp[i] = True\n",
    "        if dp[i]:\n",
    "            break\n",
    "    if not dp[i]:\n",
    "        dp[i] = False\n",
    "\n",
    "if dp[N]:\n",
    "    print('First')\n",
    "else:\n",
    "    print('Second')"
   ]
  },
  {
   "cell_type": "markdown",
   "id": "b2b51085",
   "metadata": {},
   "source": [
    "## 5.8 ゲーム（2）：二ム"
   ]
  },
  {
   "cell_type": "code",
   "execution_count": null,
   "id": "6e7174b5",
   "metadata": {},
   "outputs": [
    {
     "name": "stdout",
     "output_type": "stream",
     "text": [
      "First\n"
     ]
    }
   ],
   "source": [
    "# A33\n",
    "N = int(input())\n",
    "A = list(map(int, input().split()))\n",
    "xor = A[0]\n",
    "for i in range(1, N):\n",
    "    xor ^= A[i]\n",
    "if (xor >= 1):\n",
    "    print('First')\n",
    "else:\n",
    "    print('Second')"
   ]
  },
  {
   "cell_type": "code",
   "execution_count": null,
   "id": "8fcb987c",
   "metadata": {},
   "outputs": [
    {
     "name": "stdout",
     "output_type": "stream",
     "text": [
      "First\n"
     ]
    }
   ],
   "source": [
    "# B33\n",
    "N, H, W = map(int, input().split())\n",
    "A, B = [None] * N, [None] * N\n",
    "for i in range(N):\n",
    "    A[i], B[i] = map(int, input().split())\n",
    "xor = (A[0]-1) ^ (B[0]-1)\n",
    "\n",
    "for i in range(1, N):\n",
    "    xor ^= ((A[i]-1) ^ (B[i]-1))\n",
    "if (xor >= 1):\n",
    "    print('First')\n",
    "else:\n",
    "    print('Second')"
   ]
  },
  {
   "cell_type": "markdown",
   "id": "7a8754ba",
   "metadata": {},
   "source": [
    "## 5.9 ゲーム（3）：Grundy数"
   ]
  },
  {
   "cell_type": "code",
   "execution_count": 19,
   "id": "1933b106",
   "metadata": {},
   "outputs": [
    {
     "name": "stdout",
     "output_type": "stream",
     "text": [
      "First\n"
     ]
    }
   ],
   "source": [
    "# A34\n",
    "N, X, Y = map(int, input().split())\n",
    "A = list(map(int, input().split()))\n",
    "Grundy = [None] * (10**5+1)\n",
    "Grundy[0] = 0\n",
    "for i in range(1, 10**5+1):\n",
    "    Transit = [False, False, False]\n",
    "    if (i >= X):\n",
    "        Transit[Grundy[i-X]] = True\n",
    "    if (i >= Y):\n",
    "        Transit[Grundy[i-Y]] = True\n",
    "    if (Transit[0] == False):\n",
    "        Grundy[i] = 0\n",
    "    elif (Transit[1] == False):\n",
    "        Grundy[i] = 1\n",
    "    else:\n",
    "        Grundy[i] = 2\n",
    "\n",
    "xor = 0\n",
    "for i in range(N):\n",
    "    xor ^= Grundy[A[i]]\n",
    "if (xor >= 1):\n",
    "    print('First')\n",
    "else:\n",
    "    print('Second')"
   ]
  },
  {
   "cell_type": "code",
   "execution_count": 20,
   "id": "f0abd6a5",
   "metadata": {},
   "outputs": [
    {
     "name": "stdout",
     "output_type": "stream",
     "text": [
      "First\n"
     ]
    }
   ],
   "source": [
    "# B34\n",
    "N, X, Y = map(int, input().split())\n",
    "A = list(map(int, input().split()))\n",
    "Grundy = [0, 0, 1, 1, 2]\n",
    "\n",
    "xor = 0\n",
    "for i in range(N):\n",
    "    xor ^= Grundy[A[i] % 5]\n",
    "if (xor >= 1):\n",
    "    print('First')\n",
    "else:\n",
    "    print('Second')"
   ]
  },
  {
   "cell_type": "markdown",
   "id": "de2b7df1",
   "metadata": {},
   "source": [
    "## 5.10 チャレンジ問題"
   ]
  },
  {
   "cell_type": "code",
   "execution_count": 1,
   "id": "a586e013",
   "metadata": {},
   "outputs": [
    {
     "name": "stdout",
     "output_type": "stream",
     "text": [
      "30\n"
     ]
    }
   ],
   "source": [
    "# A35\n",
    "N = int(input())\n",
    "A = list(map(int, input().split()))\n",
    "dp = [[None] * (N+1) for _ in range(N+1)]\n",
    "for i in range(1, N+1):\n",
    "    dp[N][i] = A[i-1]\n",
    "\n",
    "for i in reversed(range(1, N)):\n",
    "    for j in range(1, i+1):\n",
    "        if (i % 2 == 1):\n",
    "            dp[i][j] = max(dp[i+1][j], dp[i+1][j+1])\n",
    "        else:\n",
    "            dp[i][j] = min(dp[i+1][j], dp[i+1][j+1])\n",
    "print(dp[1][1])"
   ]
  }
 ],
 "metadata": {
  "kernelspec": {
   "display_name": "atcoder",
   "language": "python",
   "name": "atcoder"
  },
  "language_info": {
   "codemirror_mode": {
    "name": "ipython",
    "version": 3
   },
   "file_extension": ".py",
   "mimetype": "text/x-python",
   "name": "python",
   "nbconvert_exporter": "python",
   "pygments_lexer": "ipython3",
   "version": "3.11.4"
  }
 },
 "nbformat": 4,
 "nbformat_minor": 5
}
