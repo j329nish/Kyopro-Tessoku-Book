{
 "cells": [
  {
   "cell_type": "markdown",
   "id": "381bd357",
   "metadata": {},
   "source": [
    "# 7章 ヒューリスティック"
   ]
  },
  {
   "cell_type": "markdown",
   "id": "402aa444",
   "metadata": {},
   "source": [
    "## 7.1 貪欲法"
   ]
  },
  {
   "cell_type": "code",
   "execution_count": 2,
   "id": "21cfdac2",
   "metadata": {},
   "outputs": [
    {
     "name": "stdout",
     "output_type": "stream",
     "text": [
      "1\n",
      "5\n",
      "6\n",
      "2\n",
      "4\n",
      "3\n",
      "7\n",
      "1\n"
     ]
    }
   ],
   "source": [
    "# A46\n",
    "N = int(input())\n",
    "X, Y = [None] * N, [None] * N\n",
    "for i in range(N):\n",
    "    X[i], Y[i] = map(int, input().split())\n",
    "Current = 1\n",
    "Passed = [False] * N\n",
    "Passed[0] = True\n",
    "print(1)\n",
    "while (True):\n",
    "    Next = 0\n",
    "    kyori = 2*(10**3)\n",
    "    for i in range(N):\n",
    "        if (Passed[i] == False):\n",
    "            i_kyori = (abs(X[i]-X[Current-1])**2 + abs(Y[i]-Y[Current-1])**2) ** 0.5\n",
    "            if (kyori > i_kyori):\n",
    "                kyori = i_kyori\n",
    "                Next = i+1\n",
    "    if (Next == 0):\n",
    "        break\n",
    "    Current = Next\n",
    "    Passed[Current-1] = True\n",
    "    print(Current)\n",
    "print(1)"
   ]
  },
  {
   "cell_type": "markdown",
   "id": "cf34943a",
   "metadata": {},
   "source": [
    "## 7.2 局所探索法"
   ]
  },
  {
   "cell_type": "code",
   "execution_count": null,
   "id": "91c62da6",
   "metadata": {},
   "outputs": [
    {
     "name": "stdout",
     "output_type": "stream",
     "text": [
      "1\n",
      "2\n",
      "6\n",
      "7\n",
      "3\n",
      "4\n",
      "5\n",
      "1\n"
     ]
    }
   ],
   "source": [
    "# A46\n",
    "import random\n",
    "N = int(input())\n",
    "X, Y = [None] * N, [None] * N\n",
    "for i in range(N):\n",
    "    X[i], Y[i] = map(int, input().split())\n",
    "P = [i % N for i in range(N+1)]\n",
    "\n",
    "def get_score(X, Y, P):\n",
    "    score = 0\n",
    "    for i in range(N):\n",
    "        score += ((X[P[i]] - X[P[i+1]])**2 + (Y[P[i]] - Y[P[i+1]])**2) ** 0.5\n",
    "    return score\n",
    "\n",
    "LOOP = 500\n",
    "current_score = get_score(X, Y, P)\n",
    "for t in range(LOOP):\n",
    "    l = random.randint(1, N-1)\n",
    "    r = random.randint(1, N-1)\n",
    "    if (l > r):\n",
    "        l, r = r, l\n",
    "    P[l:r+1] = reversed(P[l:r+1])\n",
    "    new_score = get_score(X, Y, P)\n",
    "    if (current_score >= new_score):\n",
    "        current_score = new_score\n",
    "    else:\n",
    "        P[l:r+1] = reversed(P[l:r+1])\n",
    "\n",
    "for i in P:\n",
    "    print(i + 1)"
   ]
  },
  {
   "cell_type": "markdown",
   "id": "ceef0254",
   "metadata": {},
   "source": [
    "## 7.3 焼きなまし法"
   ]
  },
  {
   "cell_type": "code",
   "execution_count": 2,
   "id": "0460b2ed",
   "metadata": {},
   "outputs": [
    {
     "name": "stdout",
     "output_type": "stream",
     "text": [
      "1\n",
      "7\n",
      "2\n",
      "6\n",
      "5\n",
      "4\n",
      "3\n",
      "1\n"
     ]
    }
   ],
   "source": [
    "# A46\n",
    "import math\n",
    "import random\n",
    "N = int(input())\n",
    "X, Y = [None] * N, [None] * N\n",
    "for i in range(N):\n",
    "    X[i], Y[i] = map(int, input().split())\n",
    "P = [i % N for i in range(N+1)]\n",
    "\n",
    "def get_score(X, Y, P):\n",
    "    score = 0\n",
    "    for i in range(N):\n",
    "        score += ((X[P[i]] - X[P[i+1]])**2 + (Y[P[i]] - Y[P[i+1]])**2) ** 0.5\n",
    "    return score\n",
    "\n",
    "LOOP = 500\n",
    "current_score = get_score(X, Y, P)\n",
    "for t in range(LOOP):\n",
    "    l = random.randint(1, N-1)\n",
    "    r = random.randint(1, N-1)\n",
    "    if (l > r):\n",
    "        l, r = r, l\n",
    "    P[l:r+1] = reversed(P[l:r+1])\n",
    "    new_score = get_score(X, Y, P)\n",
    "    T = 30 - 28 * (t / LOOP)\n",
    "    probability = math.exp(min((current_score - new_score) / T, 0))\n",
    "    if (random.random() < probability):\n",
    "        current_score = new_score\n",
    "    else:\n",
    "        P[l:r+1] = reversed(P[l:r+1])\n",
    "\n",
    "for i in P:\n",
    "    print(i + 1)"
   ]
  },
  {
   "cell_type": "markdown",
   "id": "f039bf61",
   "metadata": {},
   "source": [
    "## 7.4 ビームサーチ"
   ]
  },
  {
   "cell_type": "code",
   "execution_count": 3,
   "id": "34ec1b23",
   "metadata": {},
   "outputs": [
    {
     "name": "stdout",
     "output_type": "stream",
     "text": [
      "A\n",
      "B\n",
      "A\n"
     ]
    }
   ],
   "source": [
    "# A49\n",
    "import copy\n",
    "T = int(input())\n",
    "P, Q, R = [None] * T, [None] * T, [None] * T\n",
    "for i in range(T):\n",
    "    P[i], Q[i], R[i] = map(int, input().split())\n",
    "Beam = [list() for _ in range(T+1)]\n",
    "Beam[0] = [[0, [0] * 20, None, -1]]\n",
    "\n",
    "for i in range(T):\n",
    "    candidate = list()\n",
    "    for j in range(len(Beam[i])):\n",
    "        A = copy.deepcopy(Beam[i][j])\n",
    "        A[1][P[i]-1] += 1\n",
    "        A[1][Q[i]-1] += 1\n",
    "        A[1][R[i]-1] += 1\n",
    "        A[2] = 'A'\n",
    "        A[3] = j\n",
    "        A[0] += A[1].count(0)\n",
    "        B = copy.deepcopy(Beam[i][j])\n",
    "        B[1][P[i]-1] -= 1\n",
    "        B[1][Q[i]-1] -= 1\n",
    "        B[1][R[i]-1] -= 1\n",
    "        B[2] = 'B'\n",
    "        B[3] = j\n",
    "        B[0] += B[1].count(0)\n",
    "        candidate.append(A)\n",
    "        candidate.append(B)\n",
    "    candidate.sort(key = lambda s: -s[0])\n",
    "    Beam[i+1] = copy.deepcopy(candidate[:5])\n",
    "\n",
    "current = 0\n",
    "Answer = [None] * T\n",
    "for i in reversed(range(T)):\n",
    "    Answer[i] = Beam[i+1][current][2]\n",
    "    current = Beam[i+1][current][3]\n",
    "for c in Answer:\n",
    "    print(c)"
   ]
  },
  {
   "cell_type": "markdown",
   "id": "d2b391ca",
   "metadata": {},
   "source": [
    "## 7.5 チャレンジ問題"
   ]
  },
  {
   "cell_type": "code",
   "execution_count": null,
   "id": "ced4335b",
   "metadata": {},
   "outputs": [],
   "source": [
    "# A50\n",
    "import numpy as np\n",
    "import random\n",
    "import time\n",
    "import sys\n",
    "\n",
    "N = 100\n",
    "Q = 1000\n",
    "A = np.array([ list(map(int, input().split())) for i in range(N) ])\n",
    "\n",
    "X = [ random.randint(0, N - 1) for i in range(Q) ]\n",
    "Y = [ random.randint(0, N - 1) for i in range(Q) ]\n",
    "H = [ 1 ] * Q\n",
    "B = np.zeros((3 * N, 3 * N))\n",
    "for i in range(Q):\n",
    "\tB[Y[i]][X[i]] += 1\n",
    "\n",
    "delta = [ None ] * (N + 1)\n",
    "for i in range(1, N + 1):\n",
    "\tdelta[i] = np.array([ [ max(i - abs(y) - abs(x), 0) for x in range(-i + 1, i) ] for y in range(-i + 1, i) ])\n",
    "\n",
    "def get_score():\n",
    "\treturn 200000000 - np.absolute(A - B[N:2*N, N:2*N]).sum()\n",
    "\n",
    "TIME_LIMIT = 5.4\n",
    "current_score = get_score()\n",
    "ti = time.time()\n",
    "\n",
    "loops = 0\n",
    "while time.time() - ti < TIME_LIMIT:\n",
    "\tt = random.randint(0, Q - 1)\n",
    "\told_x, new_x = X[t], X[t] + random.randint(-9, +9)\n",
    "\told_y, new_y = Y[t], Y[t] + random.randint(-9, +9)\n",
    "\told_h, new_h = H[t], H[t] + random.randint(-19, +19)\n",
    "\tif new_x < 0 or new_x >= N or new_y < 0 or new_y >= N or new_h <= 0 or new_h > N:\n",
    "\t\tcontinue\n",
    "\tB[N+Y[t]-H[t]+1:N+Y[t]+H[t], N+X[t]-H[t]+1:N+X[t]+H[t]] -= delta[H[t]]\n",
    "\tX[t], Y[t], H[t] = new_x, new_y, new_h\n",
    "\tB[N+Y[t]-H[t]+1:N+Y[t]+H[t], N+X[t]-H[t]+1:N+X[t]+H[t]] += delta[H[t]]\n",
    "\tnew_score = get_score()\n",
    "\tif current_score < new_score:\n",
    "\t\tcurrent_score = new_score\n",
    "\telse:\n",
    "\t\tB[N+Y[t]-H[t]+1:N+Y[t]+H[t], N+X[t]-H[t]+1:N+X[t]+H[t]] -= delta[H[t]]\n",
    "\t\tX[t], Y[t], H[t] = old_x, old_y, old_h\n",
    "\t\tB[N+Y[t]-H[t]+1:N+Y[t]+H[t], N+X[t]-H[t]+1:N+X[t]+H[t]] += delta[H[t]]\n",
    "\tloops += 1\n",
    "\n",
    "print(Q)\n",
    "for i in range(Q):\n",
    "\tprint(X[i], Y[i], H[i])\n",
    "print(\"score =\", current_score, file = sys.stderr)\n",
    "print(\"loops =\", loops, file = sys.stderr)"
   ]
  }
 ],
 "metadata": {
  "kernelspec": {
   "display_name": "atcoder",
   "language": "python",
   "name": "atcoder"
  },
  "language_info": {
   "codemirror_mode": {
    "name": "ipython",
    "version": 3
   },
   "file_extension": ".py",
   "mimetype": "text/x-python",
   "name": "python",
   "nbconvert_exporter": "python",
   "pygments_lexer": "ipython3",
   "version": "3.11.4"
  }
 },
 "nbformat": 4,
 "nbformat_minor": 5
}
