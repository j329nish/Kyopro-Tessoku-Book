{
 "cells": [
  {
   "cell_type": "markdown",
   "id": "e3b73dca",
   "metadata": {},
   "source": [
    "# 8章 データ構造とクエリ処理"
   ]
  },
  {
   "cell_type": "markdown",
   "id": "8a6bacb3",
   "metadata": {},
   "source": [
    "## 8.1 スタック"
   ]
  },
  {
   "cell_type": "code",
   "execution_count": null,
   "id": "ff106533",
   "metadata": {},
   "outputs": [
    {
     "name": "stdout",
     "output_type": "stream",
     "text": [
      "howtospeak\n",
      "futuremap\n"
     ]
    }
   ],
   "source": [
    "# A51\n",
    "from collections import deque\n",
    "Q = int(input())\n",
    "Query = [input().split() for _ in range(Q)]\n",
    "S = deque()\n",
    "for q in Query:\n",
    "    if (q[0] == '1'):\n",
    "        S.append(q[1])\n",
    "    elif (q[0] == '2'):\n",
    "        print(S[-1])\n",
    "    else:\n",
    "        S.pop()"
   ]
  },
  {
   "cell_type": "code",
   "execution_count": 1,
   "id": "d0297513",
   "metadata": {},
   "outputs": [
    {
     "name": "stdout",
     "output_type": "stream",
     "text": [
      "2 3\n",
      "1 4\n",
      "5 6\n"
     ]
    }
   ],
   "source": [
    "# B51\n",
    "from collections import deque\n",
    "S = input()\n",
    "kakko = deque()\n",
    "for i, s in enumerate(S):\n",
    "    if (s == '('):\n",
    "        kakko.append(['(', i+1])\n",
    "    else:\n",
    "        if (kakko[-1][0] == '('):\n",
    "            print(f'{kakko[-1][1]} {i+1}')\n",
    "            kakko.pop()\n",
    "        else:\n",
    "            kakko.append([')', i+1])"
   ]
  },
  {
   "cell_type": "markdown",
   "id": "21281bf8",
   "metadata": {},
   "source": [
    "## 8.2 キュー"
   ]
  },
  {
   "cell_type": "code",
   "execution_count": 2,
   "id": "e55fd284",
   "metadata": {},
   "outputs": [
    {
     "name": "stdout",
     "output_type": "stream",
     "text": [
      "taro\n",
      "hanako\n"
     ]
    }
   ],
   "source": [
    "# A52\n",
    "from collections import deque\n",
    "Q = int(input())\n",
    "Query = [input().split() for _ in range(Q)]\n",
    "T = deque()\n",
    "for q in Query:\n",
    "    if (q[0] == '1'):\n",
    "        T.append(q[1])\n",
    "    elif (q[0] == '2'):\n",
    "        print(T[0])\n",
    "    else:\n",
    "        T.popleft()"
   ]
  },
  {
   "cell_type": "code",
   "execution_count": 3,
   "id": "5cdca305",
   "metadata": {},
   "outputs": [
    {
     "name": "stdout",
     "output_type": "stream",
     "text": [
      "#@@@#\n"
     ]
    }
   ],
   "source": [
    "# B52\n",
    "from collections import deque\n",
    "N, X = map(int, input().split())\n",
    "A = list(input())\n",
    "T = deque([X-1])\n",
    "A[X-1] = '@'\n",
    "while T:\n",
    "    pos = T.popleft()\n",
    "    if (pos - 1 >= 0 and A[pos-1] == '.'):\n",
    "        T.append(pos-1)\n",
    "        A[pos-1] = '@'\n",
    "    if (pos + 1 < N and A[pos+1] == '.'):\n",
    "        T.append(pos+1)\n",
    "        A[pos+1] = '@'\n",
    "print(''.join(A))"
   ]
  },
  {
   "cell_type": "markdown",
   "id": "60c84ef9",
   "metadata": {},
   "source": [
    "## 8.3 優先度付きキュー"
   ]
  },
  {
   "cell_type": "code",
   "execution_count": null,
   "id": "0485b1db",
   "metadata": {},
   "outputs": [
    {
     "name": "stdout",
     "output_type": "stream",
     "text": [
      "1650\n"
     ]
    }
   ],
   "source": [
    "# A53\n",
    "import heapq\n",
    "Q = int(input())\n",
    "Query = [input().split() for _ in range(Q)]\n",
    "T = []\n",
    "for q in Query:\n",
    "    if (q[0] == '1'):\n",
    "        heapq.heappush(T, int(q[1]))\n",
    "    elif (q[0] == '2'):\n",
    "        print(T[0])\n",
    "    else:\n",
    "        heapq.heappop(T)"
   ]
  },
  {
   "cell_type": "code",
   "execution_count": 5,
   "id": "215663c4",
   "metadata": {},
   "outputs": [
    {
     "name": "stdout",
     "output_type": "stream",
     "text": [
      "12\n"
     ]
    }
   ],
   "source": [
    "# B39\n",
    "import heapq\n",
    "N, D = map(int, input().split())\n",
    "G = [list() for _ in range(2001)]\n",
    "for _ in range(N):\n",
    "    X, Y = map(int, input().split())\n",
    "    G[X].append(Y)\n",
    "\n",
    "Chose = []\n",
    "Answer = 0\n",
    "for i in range(1, D+1):\n",
    "    for y in G[i]:\n",
    "        heapq.heappush(Chose, -y)\n",
    "    Answer -= heapq.heappop(Chose)\n",
    "print(Answer)"
   ]
  },
  {
   "cell_type": "markdown",
   "id": "d4d45469",
   "metadata": {},
   "source": [
    "## 8.4 連想配列"
   ]
  },
  {
   "cell_type": "code",
   "execution_count": 6,
   "id": "df4a4f72",
   "metadata": {},
   "outputs": [
    {
     "name": "stdout",
     "output_type": "stream",
     "text": [
      "49\n"
     ]
    }
   ],
   "source": [
    "# A54\n",
    "Q = int(input())\n",
    "Query = [input().split() for _ in range(Q)]\n",
    "Map = {}\n",
    "for q in Query:\n",
    "    if (q[0] == '1'):\n",
    "        Map[q[1]] = q[2]\n",
    "    else:\n",
    "        print(Map[q[1]])"
   ]
  },
  {
   "cell_type": "code",
   "execution_count": 7,
   "id": "4fdcbbf5",
   "metadata": {},
   "outputs": [
    {
     "name": "stdout",
     "output_type": "stream",
     "text": [
      "4\n"
     ]
    }
   ],
   "source": [
    "# B54\n",
    "N = int(input())\n",
    "Map = {}\n",
    "Answer = 0\n",
    "for i in range(N):\n",
    "    a = int(input())\n",
    "    Map[a] = Map.get(a, 0) + 1\n",
    "    if (Map[a] > 1):\n",
    "        Answer += Map[a]-1\n",
    "print(Answer)"
   ]
  },
  {
   "cell_type": "markdown",
   "id": "7b22e006",
   "metadata": {},
   "source": [
    "## 8.5 集合の管理（C++のみ）"
   ]
  },
  {
   "cell_type": "markdown",
   "id": "262788d5",
   "metadata": {},
   "source": [
    "## 8.6 文字列のハッシュ"
   ]
  },
  {
   "cell_type": "code",
   "execution_count": null,
   "id": "133b9190",
   "metadata": {},
   "outputs": [
    {
     "name": "stdout",
     "output_type": "stream",
     "text": [
      "Yes\n",
      "No\n",
      "No\n"
     ]
    }
   ],
   "source": [
    "# A56\n",
    "N, Q = map(int, input().split())\n",
    "S = list(input())\n",
    "Query = [list(map(int, input().split())) for _ in range(Q)]\n",
    "T = list(map(lambda c: ord(c) - ord('a') + 1, S))\n",
    "\n",
    "MOD = 2147483647\n",
    "power100 = [1] * (N+1)\n",
    "for i in range(N):\n",
    "    power100[i+1] = power100[i] * 100 % MOD\n",
    "\n",
    "H = [0] * (N+1)\n",
    "for i in range(N):\n",
    "    H[i+1] = (H[i]*100+T[i]) % MOD\n",
    "\n",
    "def hash_value(l, r):\n",
    "    return (H[r] - H[l-1] * power100[r-l+1]) % MOD\n",
    "\n",
    "for a, b, c, d in Query:\n",
    "    if (hash_value(a, b) == hash_value(c, d)):\n",
    "        print('Yes')\n",
    "    else:\n",
    "        print('No')"
   ]
  },
  {
   "cell_type": "code",
   "execution_count": null,
   "id": "8305e784",
   "metadata": {},
   "outputs": [],
   "source": [
    "# B56\n"
   ]
  },
  {
   "cell_type": "markdown",
   "id": "d2a92e58",
   "metadata": {},
   "source": [
    "## 8.7 ダブリング"
   ]
  },
  {
   "cell_type": "code",
   "execution_count": null,
   "id": "d935a596",
   "metadata": {},
   "outputs": [],
   "source": [
    "# A57\n"
   ]
  },
  {
   "cell_type": "code",
   "execution_count": null,
   "id": "bbdaafd4",
   "metadata": {},
   "outputs": [],
   "source": [
    "# B57\n"
   ]
  },
  {
   "cell_type": "markdown",
   "id": "345fc2ba",
   "metadata": {},
   "source": [
    "## 8.8 セグメント木：RMQ"
   ]
  },
  {
   "cell_type": "code",
   "execution_count": null,
   "id": "173dd8ad",
   "metadata": {},
   "outputs": [],
   "source": [
    "# A58\n"
   ]
  },
  {
   "cell_type": "code",
   "execution_count": null,
   "id": "27e06494",
   "metadata": {},
   "outputs": [],
   "source": [
    "# B58\n"
   ]
  },
  {
   "cell_type": "markdown",
   "id": "9bbbbfb9",
   "metadata": {},
   "source": [
    "## 8.9 セグメント木：RSQ"
   ]
  },
  {
   "cell_type": "code",
   "execution_count": null,
   "id": "4b10ea69",
   "metadata": {},
   "outputs": [],
   "source": [
    "# A59\n"
   ]
  },
  {
   "cell_type": "code",
   "execution_count": null,
   "id": "52418204",
   "metadata": {},
   "outputs": [],
   "source": [
    "# B59\n"
   ]
  },
  {
   "cell_type": "markdown",
   "id": "a3208c47",
   "metadata": {},
   "source": [
    "## 8.10 チャレンジ問題"
   ]
  },
  {
   "cell_type": "code",
   "execution_count": null,
   "id": "dbfece16",
   "metadata": {},
   "outputs": [],
   "source": [
    "# A60\n"
   ]
  },
  {
   "cell_type": "code",
   "execution_count": null,
   "id": "aebfa8d2",
   "metadata": {},
   "outputs": [],
   "source": [
    "# B60\n"
   ]
  }
 ],
 "metadata": {
  "kernelspec": {
   "display_name": "atcoder",
   "language": "python",
   "name": "atcoder"
  },
  "language_info": {
   "codemirror_mode": {
    "name": "ipython",
    "version": 3
   },
   "file_extension": ".py",
   "mimetype": "text/x-python",
   "name": "python",
   "nbconvert_exporter": "python",
   "pygments_lexer": "ipython3",
   "version": "3.11.4"
  }
 },
 "nbformat": 4,
 "nbformat_minor": 5
}
