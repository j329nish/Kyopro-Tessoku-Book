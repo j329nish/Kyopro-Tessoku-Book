{
 "cells": [
  {
   "cell_type": "markdown",
   "id": "e3b73dca",
   "metadata": {},
   "source": [
    "# 8章 データ構造とクエリ処理"
   ]
  },
  {
   "cell_type": "markdown",
   "id": "8a6bacb3",
   "metadata": {},
   "source": [
    "## 8.1 スタック"
   ]
  },
  {
   "cell_type": "code",
   "execution_count": null,
   "id": "ff106533",
   "metadata": {},
   "outputs": [
    {
     "name": "stdout",
     "output_type": "stream",
     "text": [
      "howtospeak\n",
      "futuremap\n"
     ]
    }
   ],
   "source": [
    "# A51\n",
    "from collections import deque\n",
    "Q = int(input())\n",
    "Query = [input().split() for _ in range(Q)]\n",
    "S = deque()\n",
    "for q in Query:\n",
    "    if (q[0] == '1'):\n",
    "        S.append(q[1])\n",
    "    elif (q[0] == '2'):\n",
    "        print(S[-1])\n",
    "    else:\n",
    "        S.pop()"
   ]
  },
  {
   "cell_type": "code",
   "execution_count": 1,
   "id": "d0297513",
   "metadata": {},
   "outputs": [
    {
     "name": "stdout",
     "output_type": "stream",
     "text": [
      "2 3\n",
      "1 4\n",
      "5 6\n"
     ]
    }
   ],
   "source": [
    "# B51\n",
    "from collections import deque\n",
    "S = input()\n",
    "kakko = deque()\n",
    "for i, s in enumerate(S):\n",
    "    if (s == '('):\n",
    "        kakko.append(['(', i+1])\n",
    "    else:\n",
    "        if (kakko[-1][0] == '('):\n",
    "            print(f'{kakko[-1][1]} {i+1}')\n",
    "            kakko.pop()\n",
    "        else:\n",
    "            kakko.append([')', i+1])"
   ]
  },
  {
   "cell_type": "markdown",
   "id": "21281bf8",
   "metadata": {},
   "source": [
    "## 8.2 キュー"
   ]
  },
  {
   "cell_type": "code",
   "execution_count": 2,
   "id": "e55fd284",
   "metadata": {},
   "outputs": [
    {
     "name": "stdout",
     "output_type": "stream",
     "text": [
      "taro\n",
      "hanako\n"
     ]
    }
   ],
   "source": [
    "# A52\n",
    "from collections import deque\n",
    "Q = int(input())\n",
    "Query = [input().split() for _ in range(Q)]\n",
    "T = deque()\n",
    "for q in Query:\n",
    "    if (q[0] == '1'):\n",
    "        T.append(q[1])\n",
    "    elif (q[0] == '2'):\n",
    "        print(T[0])\n",
    "    else:\n",
    "        T.popleft()"
   ]
  },
  {
   "cell_type": "code",
   "execution_count": 3,
   "id": "5cdca305",
   "metadata": {},
   "outputs": [
    {
     "name": "stdout",
     "output_type": "stream",
     "text": [
      "#@@@#\n"
     ]
    }
   ],
   "source": [
    "# B52\n",
    "from collections import deque\n",
    "N, X = map(int, input().split())\n",
    "A = list(input())\n",
    "T = deque([X-1])\n",
    "A[X-1] = '@'\n",
    "while T:\n",
    "    pos = T.popleft()\n",
    "    if (pos - 1 >= 0 and A[pos-1] == '.'):\n",
    "        T.append(pos-1)\n",
    "        A[pos-1] = '@'\n",
    "    if (pos + 1 < N and A[pos+1] == '.'):\n",
    "        T.append(pos+1)\n",
    "        A[pos+1] = '@'\n",
    "print(''.join(A))"
   ]
  },
  {
   "cell_type": "markdown",
   "id": "60c84ef9",
   "metadata": {},
   "source": [
    "## 8.3 優先度付きキュー"
   ]
  },
  {
   "cell_type": "code",
   "execution_count": null,
   "id": "0485b1db",
   "metadata": {},
   "outputs": [
    {
     "name": "stdout",
     "output_type": "stream",
     "text": [
      "1650\n"
     ]
    }
   ],
   "source": [
    "# A53\n",
    "import heapq\n",
    "Q = int(input())\n",
    "Query = [input().split() for _ in range(Q)]\n",
    "T = []\n",
    "for q in Query:\n",
    "    if (q[0] == '1'):\n",
    "        heapq.heappush(T, int(q[1]))\n",
    "    elif (q[0] == '2'):\n",
    "        print(T[0])\n",
    "    else:\n",
    "        heapq.heappop(T)"
   ]
  },
  {
   "cell_type": "code",
   "execution_count": 5,
   "id": "215663c4",
   "metadata": {},
   "outputs": [
    {
     "name": "stdout",
     "output_type": "stream",
     "text": [
      "12\n"
     ]
    }
   ],
   "source": [
    "# B39\n",
    "import heapq\n",
    "N, D = map(int, input().split())\n",
    "G = [list() for _ in range(2001)]\n",
    "for _ in range(N):\n",
    "    X, Y = map(int, input().split())\n",
    "    G[X].append(Y)\n",
    "\n",
    "Chose = []\n",
    "Answer = 0\n",
    "for i in range(1, D+1):\n",
    "    for y in G[i]:\n",
    "        heapq.heappush(Chose, -y)\n",
    "    Answer -= heapq.heappop(Chose)\n",
    "print(Answer)"
   ]
  },
  {
   "cell_type": "markdown",
   "id": "d4d45469",
   "metadata": {},
   "source": [
    "## 8.4 連想配列"
   ]
  },
  {
   "cell_type": "code",
   "execution_count": 6,
   "id": "df4a4f72",
   "metadata": {},
   "outputs": [
    {
     "name": "stdout",
     "output_type": "stream",
     "text": [
      "49\n"
     ]
    }
   ],
   "source": [
    "# A54\n",
    "Q = int(input())\n",
    "Query = [input().split() for _ in range(Q)]\n",
    "Map = {}\n",
    "for q in Query:\n",
    "    if (q[0] == '1'):\n",
    "        Map[q[1]] = q[2]\n",
    "    else:\n",
    "        print(Map[q[1]])"
   ]
  },
  {
   "cell_type": "code",
   "execution_count": 7,
   "id": "4fdcbbf5",
   "metadata": {},
   "outputs": [
    {
     "name": "stdout",
     "output_type": "stream",
     "text": [
      "4\n"
     ]
    }
   ],
   "source": [
    "# B54\n",
    "N = int(input())\n",
    "Map = {}\n",
    "Answer = 0\n",
    "for i in range(N):\n",
    "    a = int(input())\n",
    "    Map[a] = Map.get(a, 0) + 1\n",
    "    if (Map[a] > 1):\n",
    "        Answer += Map[a]-1\n",
    "print(Answer)"
   ]
  },
  {
   "cell_type": "markdown",
   "id": "7b22e006",
   "metadata": {},
   "source": [
    "## 8.5 集合の管理（C++のみ）"
   ]
  },
  {
   "cell_type": "markdown",
   "id": "262788d5",
   "metadata": {},
   "source": [
    "## 8.6 文字列のハッシュ"
   ]
  },
  {
   "cell_type": "code",
   "execution_count": null,
   "id": "133b9190",
   "metadata": {},
   "outputs": [
    {
     "name": "stdout",
     "output_type": "stream",
     "text": [
      "Yes\n",
      "No\n",
      "No\n"
     ]
    }
   ],
   "source": [
    "# A56\n",
    "N, Q = map(int, input().split())\n",
    "S = list(input())\n",
    "Query = [list(map(int, input().split())) for _ in range(Q)]\n",
    "T = list(map(lambda c: ord(c) - ord('a') + 1, S))\n",
    "\n",
    "MOD = 2147483647\n",
    "power100 = [1] * (N+1)\n",
    "for i in range(N):\n",
    "    power100[i+1] = power100[i] * 100 % MOD\n",
    "\n",
    "H = [0] * (N+1)\n",
    "for i in range(N):\n",
    "    H[i+1] = (H[i]*100+T[i]) % MOD\n",
    "\n",
    "def hash_value(l, r):\n",
    "    return (H[r] - H[l-1] * power100[r-l+1]) % MOD\n",
    "\n",
    "for a, b, c, d in Query:\n",
    "    if (hash_value(a, b) == hash_value(c, d)):\n",
    "        print('Yes')\n",
    "    else:\n",
    "        print('No')"
   ]
  },
  {
   "cell_type": "code",
   "execution_count": null,
   "id": "8305e784",
   "metadata": {},
   "outputs": [],
   "source": [
    "# B56\n",
    "N, Q = map(int, input().split())\n",
    "S = list(input())\n",
    "L, R = [None] * Q, [None] * Q\n",
    "for i in range(Q):\n",
    "    L[i], R[i] = map(int, input().split())\n",
    "T = list(map(lambda c: ord(c) - ord('a') + 1, S))\n",
    "\n",
    "MOD = 2147483647\n",
    "power100 = [1] * (N+1)\n",
    "for i in range(N):\n",
    "    power100[i+1] = power100[i] * 100 % MOD\n",
    "\n",
    "H = [0] * (N+1)\n",
    "reversed_H = [0] * (N+1)\n",
    "for i in range(N):\n",
    "    H[i+1] = (H[i]*100+T[i]) % MOD\n",
    "\n",
    "for i in reversed(range(N)):\n",
    "    reversed_H[i] = (reversed_H[i+1]*100+T[i]) % MOD\n",
    "\n",
    "def hash_value(l, r):\n",
    "    return (H[r] - H[l-1] * power100[r-l+1]) % MOD\n",
    "\n",
    "def reversed_hash_value(l, r):\n",
    "    return (reversed_H[l] - reversed_H[r+1] * power100[r-l+1]) % MOD\n",
    "\n",
    "for i in range(Q):\n",
    "    mid = (L[i]+R[i])//2\n",
    "    if ((L[i]+R[i]) % 2 == 0):\n",
    "        ans = hash_value(L[i], mid) - reversed_hash_value(mid, R[i]-1)\n",
    "    else:\n",
    "        ans = hash_value(L[i], mid) - reversed_hash_value(mid-1, R[i]-1)\n",
    "\n",
    "    if (ans == 0):\n",
    "        print('Yes')\n",
    "    else:\n",
    "        print('No')"
   ]
  },
  {
   "cell_type": "markdown",
   "id": "d2a92e58",
   "metadata": {},
   "source": [
    "## 8.7 ダブリング"
   ]
  },
  {
   "cell_type": "code",
   "execution_count": 1,
   "id": "d935a596",
   "metadata": {},
   "outputs": [
    {
     "name": "stdout",
     "output_type": "stream",
     "text": [
      "2\n",
      "1\n",
      "3\n",
      "6\n"
     ]
    }
   ],
   "source": [
    "# A57\n",
    "N, Q = map(int, input().split())\n",
    "A = list(map(int, input().split()))\n",
    "X, Y = [None] * Q, [None] * Q\n",
    "for i in range(Q):\n",
    "    X[i], Y[i] = map(int, input().split())\n",
    "\n",
    "dp = [[0] * N for _ in range(30)]\n",
    "for i in range(N):\n",
    "  dp[0][i] = A[i] - 1\n",
    "\n",
    "for i in range(1, 30):\n",
    "    for j in range(N):\n",
    "        dp[i][j] = dp[i-1][dp[i-1][j]]\n",
    "\n",
    "for i in range(Q):\n",
    "    current = X[i] - 1\n",
    "    for j in reversed(range(30)):\n",
    "        if (((Y[i] >> j) & 1) == 1):\n",
    "            current = dp[j][current]\n",
    "    print(current+1)"
   ]
  },
  {
   "cell_type": "code",
   "execution_count": 1,
   "id": "bbdaafd4",
   "metadata": {},
   "outputs": [
    {
     "name": "stdout",
     "output_type": "stream",
     "text": [
      "0\n",
      "0\n",
      "0\n",
      "0\n",
      "0\n",
      "0\n",
      "0\n",
      "0\n",
      "0\n",
      "9\n"
     ]
    }
   ],
   "source": [
    "# B57\n",
    "N, K = map(int, input().split())\n",
    "dp = [[0] * (N+1) for _ in range(30)]\n",
    "for i in range(1, N+1):\n",
    "    dp[0][i] = i\n",
    "    Str = str(i)\n",
    "    for j in range(len(Str)):\n",
    "        dp[0][i] -= int(Str[j])\n",
    "\n",
    "for i in range(1, 30):\n",
    "    for j in range(1, N+1):\n",
    "        dp[i][j] = dp[i-1][dp[i-1][j]]\n",
    "\n",
    "for i in range(1, N+1):\n",
    "    current = i\n",
    "    for j in range(30):\n",
    "        if ((K >> j) & 1):\n",
    "            current = dp[j][current]\n",
    "    print(current)"
   ]
  },
  {
   "cell_type": "markdown",
   "id": "345fc2ba",
   "metadata": {},
   "source": [
    "## 8.8 セグメント木：RMQ"
   ]
  },
  {
   "cell_type": "code",
   "execution_count": null,
   "id": "173dd8ad",
   "metadata": {},
   "outputs": [
    {
     "name": "stdout",
     "output_type": "stream",
     "text": [
      "0\n",
      "13\n"
     ]
    }
   ],
   "source": [
    "# A58\n",
    "N, Q = map(int, input().split())\n",
    "Query = [list(map(int, input().split())) for _ in range(Q)]\n",
    "\n",
    "class segtree:\n",
    "    def __init__(self, n):\n",
    "        self.size = 1\n",
    "        while self.size < n:\n",
    "            self.size *= 2\n",
    "        self.dat = [0] * (self.size*2)\n",
    "\n",
    "    def update(self, pos, x):\n",
    "        pos += self.size\n",
    "        self.dat[pos] = x\n",
    "        while pos >= 2:\n",
    "            pos //= 2\n",
    "            self.dat[pos] = max(self.dat[pos*2], self.dat[pos*2+1])\n",
    "\n",
    "    def query(self, l, r, a, b, u):\n",
    "        if (r <= a or b <= l):\n",
    "            return -float('inf')\n",
    "        elif (l <= a and b <= r):\n",
    "            return self.dat[u]\n",
    "        else:\n",
    "            m = (a + b) // 2\n",
    "            answerL = self.query(l, r, a, m, u*2)\n",
    "            answerR = self.query(l, r, m, b, u*2+1)\n",
    "            return max(answerL, answerR)\n",
    "\n",
    "Z = segtree(N)\n",
    "for q in Query:\n",
    "    if (q[0] == 1):\n",
    "        Z.update(q[1]-1, q[2])\n",
    "    else:\n",
    "        print(Z.query(q[1]-1, q[2]-1, 0, Z.size, 1))"
   ]
  },
  {
   "cell_type": "code",
   "execution_count": 4,
   "id": "27e06494",
   "metadata": {},
   "outputs": [
    {
     "name": "stdout",
     "output_type": "stream",
     "text": [
      "2\n"
     ]
    }
   ],
   "source": [
    "# B58\n",
    "import bisect\n",
    "N, L, R = map(int, input().split())\n",
    "X = list(map(int, input().split()))\n",
    "dp = [0] * N\n",
    "INF = 1 << 61\n",
    "size = 1 << 17\n",
    "dat = [INF] * (size * 2)\n",
    "\n",
    "def update(i, v):\n",
    "    i += size\n",
    "    dat[i] = v\n",
    "    while (i > 1):\n",
    "        i >>= 1\n",
    "        dat[i] = min(dat[i*2], dat[i*2+1])\n",
    "\n",
    "def query(l, r):\n",
    "    l += size\n",
    "    r += size\n",
    "    answer = INF\n",
    "    while (l < r):\n",
    "        if (l & 1):\n",
    "            if (answer > dat[l]):\n",
    "                answer = dat[l]\n",
    "            l += 1\n",
    "        if (r & 1):\n",
    "            r -= 1\n",
    "            if (answer > dat[r]):\n",
    "                answer = dat[r]\n",
    "        l >>= 1\n",
    "        r >>= 1\n",
    "    return answer\n",
    "\n",
    "update(0, 0)\n",
    "for i in range(1, N):\n",
    "    posL = bisect.bisect_left(X, X[i] - R)\n",
    "    posR = bisect.bisect_right(X, X[i] - L)\n",
    "    dp[i] = query(posL, posR) + 1\n",
    "    update(i, dp[i])\n",
    "\n",
    "print(dp[-1])"
   ]
  },
  {
   "cell_type": "markdown",
   "id": "9bbbbfb9",
   "metadata": {},
   "source": [
    "## 8.9 セグメント木：RSQ"
   ]
  },
  {
   "cell_type": "code",
   "execution_count": 5,
   "id": "4b10ea69",
   "metadata": {},
   "outputs": [
    {
     "name": "stdout",
     "output_type": "stream",
     "text": [
      "24\n",
      "40\n"
     ]
    }
   ],
   "source": [
    "# A59\n",
    "N, Q = map(int, input().split())\n",
    "Query = [list(map(int, input().split())) for _ in range(Q)]\n",
    "\n",
    "class segtree:\n",
    "    def __init__(self, n):\n",
    "        self.size = 1\n",
    "        while self.size < n:\n",
    "            self.size *= 2\n",
    "        self.dat = [0] * (self.size*2)\n",
    "\n",
    "    def update(self, pos, x):\n",
    "        pos += self.size\n",
    "        self.dat[pos] = x\n",
    "        while pos > 1:\n",
    "            pos //= 2\n",
    "            self.dat[pos] = self.dat[pos*2] + self.dat[pos*2+1]\n",
    "\n",
    "    def query(self, l, r, a, b, u):\n",
    "        if (r <= a or b <= l):\n",
    "            return 0\n",
    "        elif (l <= a and b <= r):\n",
    "            return self.dat[u]\n",
    "        else:\n",
    "            m = (a + b) // 2\n",
    "            answerL = self.query(l, r, a, m, u*2)\n",
    "            answerR = self.query(l, r, m, b, u*2+1)\n",
    "            return answerL + answerR\n",
    "\n",
    "Z = segtree(N)\n",
    "for q in Query:\n",
    "    if (q[0] == 1):\n",
    "        Z.update(q[1]-1, q[2])\n",
    "    else:\n",
    "        print(Z.query(q[1]-1, q[2]-1, 0, Z.size, 1))"
   ]
  },
  {
   "cell_type": "code",
   "execution_count": 6,
   "id": "52418204",
   "metadata": {},
   "outputs": [
    {
     "name": "stdout",
     "output_type": "stream",
     "text": [
      "3\n"
     ]
    }
   ],
   "source": [
    "# B59\n",
    "N = int(input())\n",
    "A = list(map(int, input().split()))\n",
    "\n",
    "size = 1 << 18\n",
    "dat = [0] * (size * 2)\n",
    "\n",
    "def update(i, v):\n",
    "    i += size\n",
    "    dat[i] = v\n",
    "    while (i > 1):\n",
    "        i >>= 1\n",
    "        dat[i] = dat[i*2] + dat[i*2+1]\n",
    "\n",
    "def query(l, r):\n",
    "    l += size\n",
    "    r += size\n",
    "    answer = 0\n",
    "    while (l < r):\n",
    "        if (l & 1):\n",
    "            answer += dat[l]\n",
    "            l += 1\n",
    "        if (r & 1):\n",
    "            r -= 1\n",
    "            answer += dat[r]\n",
    "        l >>= 1\n",
    "        r >>= 1\n",
    "    return answer\n",
    "\n",
    "Answer = 0\n",
    "for a in A:\n",
    "    Answer += query(a+1, size)\n",
    "    update(a, 1)\n",
    "\n",
    "print(Answer)"
   ]
  },
  {
   "cell_type": "markdown",
   "id": "a3208c47",
   "metadata": {},
   "source": [
    "## 8.10 チャレンジ問題"
   ]
  },
  {
   "cell_type": "code",
   "execution_count": 7,
   "id": "dbfece16",
   "metadata": {},
   "outputs": [
    {
     "name": "stdout",
     "output_type": "stream",
     "text": [
      "-1 1 1 3 4 3 "
     ]
    }
   ],
   "source": [
    "# A60\n",
    "from collections import deque\n",
    "N = int(input())\n",
    "A = list(map(int, input().split()))\n",
    "\n",
    "S = deque()\n",
    "print(-1, end=' ')\n",
    "for i in range(1, N):\n",
    "    if (A[i-1] > A[i]):\n",
    "        S.append([i, A[i-1]])\n",
    "    else:\n",
    "        while len(S):\n",
    "            if (S[-1][1] <= A[i]):\n",
    "                S.pop()\n",
    "            else:\n",
    "                break\n",
    "\n",
    "    if len(S):\n",
    "        print(S[-1][0], end=' ')\n",
    "    else:\n",
    "        print(-1, end=' ')"
   ]
  }
 ],
 "metadata": {
  "kernelspec": {
   "display_name": "atcoder",
   "language": "python",
   "name": "atcoder"
  },
  "language_info": {
   "codemirror_mode": {
    "name": "ipython",
    "version": 3
   },
   "file_extension": ".py",
   "mimetype": "text/x-python",
   "name": "python",
   "nbconvert_exporter": "python",
   "pygments_lexer": "ipython3",
   "version": "3.11.4"
  }
 },
 "nbformat": 4,
 "nbformat_minor": 5
}
