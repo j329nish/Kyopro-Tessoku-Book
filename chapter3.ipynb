{
 "cells": [
  {
   "cell_type": "markdown",
   "id": "60ba244e",
   "metadata": {},
   "source": [
    "# 3章 二分探索"
   ]
  },
  {
   "cell_type": "markdown",
   "id": "6ce60300",
   "metadata": {},
   "source": [
    "## 3.1 配列の二分探索"
   ]
  },
  {
   "cell_type": "code",
   "execution_count": 1,
   "id": "840496ac",
   "metadata": {},
   "outputs": [
    {
     "name": "stdout",
     "output_type": "stream",
     "text": [
      "11\n"
     ]
    }
   ],
   "source": [
    "# A11\n",
    "n, x = map(int, input().split())\n",
    "a = list(map(int, input().split()))\n",
    "\n",
    "def search(x):\n",
    "    l, r = 0, n-1\n",
    "    while (l <= r):\n",
    "        m = (l + r) // 2\n",
    "        if (x < a[m]):\n",
    "            r = m - 1\n",
    "        elif (x == a[m]):\n",
    "            return m + 1\n",
    "        else:\n",
    "            l = m + 1\n",
    "    return -1\n",
    "\n",
    "answer = search(x)\n",
    "print(answer)"
   ]
  },
  {
   "cell_type": "code",
   "execution_count": 2,
   "id": "0cbeca9d",
   "metadata": {},
   "outputs": [
    {
     "name": "stdout",
     "output_type": "stream",
     "text": [
      "1\n",
      "4\n",
      "5\n",
      "8\n",
      "10\n"
     ]
    }
   ],
   "source": [
    "# B11\n",
    "import bisect\n",
    "\n",
    "n = int(input())\n",
    "a = sorted(list(map(int, input().split())))\n",
    "q = int(input())\n",
    "x = [None] * q\n",
    "for i in range(q):\n",
    "    x[i] = int(input())\n",
    "\n",
    "for i in range(q):\n",
    "    print(bisect.bisect_left(a, x[i]))"
   ]
  },
  {
   "cell_type": "markdown",
   "id": "a1ca88f0",
   "metadata": {},
   "source": [
    "## 3.2 答えで二分探索"
   ]
  },
  {
   "cell_type": "code",
   "execution_count": null,
   "id": "a8a18fcf",
   "metadata": {},
   "outputs": [
    {
     "name": "stdout",
     "output_type": "stream",
     "text": [
      "6\n"
     ]
    }
   ],
   "source": [
    "# A12\n",
    "n, k = map(int, input().split())\n",
    "a = list(map(int, input().split()))\n",
    "l, r = 0, 10 ** 9\n",
    "\n",
    "def check(x):\n",
    "    sum = 0\n",
    "    for i in range(n):\n",
    "        sum += x // a[i]\n",
    "    if (sum >= k):\n",
    "        return True\n",
    "    return False\n",
    "\n",
    "while (l < r):\n",
    "    m = (l + r) // 2\n",
    "    if (check(m) == False):\n",
    "        l = m + 1\n",
    "    else:\n",
    "        r = m\n",
    "\n",
    "print(l)"
   ]
  },
  {
   "cell_type": "code",
   "execution_count": 5,
   "id": "36508343",
   "metadata": {},
   "outputs": [
    {
     "name": "stdout",
     "output_type": "stream",
     "text": [
      "1.0000944137573242\n"
     ]
    }
   ],
   "source": [
    "# B12\n",
    "n = int(input())\n",
    "l, r = 1, 100\n",
    "\n",
    "for i in range(20):\n",
    "    m = (l + r) / 2\n",
    "    if (m ** 3 + m > n):\n",
    "        r = m\n",
    "    else:\n",
    "        l = m\n",
    "\n",
    "print(m)"
   ]
  },
  {
   "cell_type": "markdown",
   "id": "b81fba0c",
   "metadata": {},
   "source": [
    "## 3.3 しゃくとり法"
   ]
  },
  {
   "cell_type": "code",
   "execution_count": null,
   "id": "f026ead6",
   "metadata": {},
   "outputs": [
    {
     "name": "stdout",
     "output_type": "stream",
     "text": [
      "11\n"
     ]
    }
   ],
   "source": [
    "# A13\n",
    "n, k = map(int, input().split())\n",
    "a = list(map(int, input().split()))\n",
    "r = [None] * n\n",
    "\n",
    "for i in range(n-1):\n",
    "    if (i == 0):\n",
    "        r[i] = 0\n",
    "    else:\n",
    "        r[i] = r[i-1]\n",
    "    while (r[i] < n-1 and a[r[i]+1] - a[i] <= k):\n",
    "        r[i] += 1\n",
    "\n",
    "answer = 0\n",
    "for i in range(n-1):\n",
    "    answer += r[i] - i\n",
    "print(answer)"
   ]
  },
  {
   "cell_type": "code",
   "execution_count": 6,
   "id": "b1fd526c",
   "metadata": {},
   "outputs": [
    {
     "name": "stdout",
     "output_type": "stream",
     "text": [
      "13\n"
     ]
    }
   ],
   "source": [
    "# B13\n",
    "n, k = map(int, input().split())\n",
    "a = list(map(int, input().split()))\n",
    "r = [None] * n\n",
    "s = [0] * (n+1)\n",
    "for i in range(1, n+1):\n",
    "    s[i] = s[i-1] + a[i-1]\n",
    "\n",
    "for i in range(n):\n",
    "    if (i == 0):\n",
    "        r[i] = -1\n",
    "    else:\n",
    "        r[i] = r[i-1]\n",
    "    while (r[i] < n-1 and s[r[i]+2] - s[i] <= k):\n",
    "        r[i] += 1\n",
    "\n",
    "answer = 0\n",
    "for i in range(n):\n",
    "    answer += r[i] - i + 1\n",
    "print(answer)"
   ]
  },
  {
   "cell_type": "markdown",
   "id": "bb597cc8",
   "metadata": {},
   "source": [
    "## 3.4 半分全列挙"
   ]
  },
  {
   "cell_type": "code",
   "execution_count": null,
   "id": "6dfb10b5",
   "metadata": {},
   "outputs": [
    {
     "name": "stdout",
     "output_type": "stream",
     "text": [
      "Yes\n"
     ]
    },
    {
     "ename": "SystemExit",
     "evalue": "0",
     "output_type": "error",
     "traceback": [
      "An exception has occurred, use %tb to see the full traceback.\n",
      "\u001b[31mSystemExit\u001b[39m\u001b[31m:\u001b[39m 0\n"
     ]
    },
    {
     "name": "stderr",
     "output_type": "stream",
     "text": [
      "/net/nas5/data/home/nishida/b4/atcoder/.venv/lib/python3.11/site-packages/IPython/core/interactiveshell.py:3678: UserWarning: To exit: use 'exit', 'quit', or Ctrl-D.\n",
      "  warn(\"To exit: use 'exit', 'quit', or Ctrl-D.\", stacklevel=1)\n"
     ]
    }
   ],
   "source": [
    "# A14\n",
    "import bisect\n",
    "import sys\n",
    "\n",
    "n, k = map(int, input().split())\n",
    "a = list(map(int, input().split()))\n",
    "b = list(map(int, input().split()))\n",
    "c = list(map(int, input().split()))\n",
    "d = list(map(int, input().split()))\n",
    "\n",
    "p = [None] * (n*n)\n",
    "for i in range(n):\n",
    "    for j in range(n):\n",
    "        p[i*n+j] = a[i] + b[j]\n",
    "\n",
    "q = [None] * (n*n)\n",
    "for i in range(n):\n",
    "    for j in range(n):\n",
    "        q[i*n+j] = c[i] + d[j]\n",
    "q.sort()\n",
    "\n",
    "for i in range(n*n):\n",
    "    pos = bisect.bisect_left(q, k-p[i])\n",
    "    if (pos < n*n and q[pos] == k-p[i]):\n",
    "        print('Yes')\n",
    "        sys.exit(0)\n",
    "print('No')"
   ]
  },
  {
   "cell_type": "code",
   "execution_count": 12,
   "id": "2275f78b",
   "metadata": {},
   "outputs": [
    {
     "name": "stdout",
     "output_type": "stream",
     "text": [
      "Yes\n"
     ]
    },
    {
     "ename": "SystemExit",
     "evalue": "0",
     "output_type": "error",
     "traceback": [
      "An exception has occurred, use %tb to see the full traceback.\n",
      "\u001b[31mSystemExit\u001b[39m\u001b[31m:\u001b[39m 0\n"
     ]
    },
    {
     "name": "stderr",
     "output_type": "stream",
     "text": [
      "/net/nas5/data/home/nishida/b4/atcoder/.venv/lib/python3.11/site-packages/IPython/core/interactiveshell.py:3678: UserWarning: To exit: use 'exit', 'quit', or Ctrl-D.\n",
      "  warn(\"To exit: use 'exit', 'quit', or Ctrl-D.\", stacklevel=1)\n"
     ]
    }
   ],
   "source": [
    "# B14\n",
    "import bisect\n",
    "import sys\n",
    "\n",
    "n, k = map(int, input().split())\n",
    "a = list(map(int, input().split()))\n",
    "\n",
    "a1 = a[:(n//2)]\n",
    "sum1 = []\n",
    "for i in range(2 ** len(a1)):\n",
    "    sum = 0\n",
    "    for j in range(len(a1)):\n",
    "        if ((i // (2 ** j)) % 2 == 1):\n",
    "            sum += a1[j]\n",
    "    sum1.append(sum)\n",
    "sum1.sort()\n",
    "\n",
    "a2 = a[(n//2):]\n",
    "sum2 = []\n",
    "for i in range(2 ** len(a2)):\n",
    "    sum = 0\n",
    "    for j in range(len(a2)):\n",
    "        if ((i // (2 ** j)) % 2 == 1):\n",
    "            sum += a2[j]\n",
    "    sum2.append(sum)\n",
    "sum2.sort()\n",
    "\n",
    "for i in range(len(sum1)):\n",
    "    pos = bisect.bisect_left(sum2, k-sum1[i])\n",
    "    if (pos < len(sum2) and sum2[pos] == k-sum1[i]):\n",
    "        print('Yes')\n",
    "        sys.exit(0)\n",
    "print('No')"
   ]
  },
  {
   "cell_type": "markdown",
   "id": "5e3856c2",
   "metadata": {},
   "source": [
    "## 3.5 チャレンジ問題"
   ]
  },
  {
   "cell_type": "code",
   "execution_count": 13,
   "id": "529beb2d",
   "metadata": {},
   "outputs": [
    {
     "name": "stdout",
     "output_type": "stream",
     "text": [
      "2 4 1 3 2 "
     ]
    }
   ],
   "source": [
    "# A15\n",
    "import bisect\n",
    "\n",
    "n = int(input())\n",
    "a = list(map(int, input().split()))\n",
    "t = list(set(a))\n",
    "t.sort()\n",
    "b = [None] * n\n",
    "\n",
    "for i in range(n):\n",
    "    b[i] = bisect.bisect_left(t, a[i])\n",
    "    b[i] += 1\n",
    "\n",
    "for i in range(n):\n",
    "    print(b[i], end=' ')"
   ]
  }
 ],
 "metadata": {
  "kernelspec": {
   "display_name": "atcoder",
   "language": "python",
   "name": "atcoder"
  },
  "language_info": {
   "codemirror_mode": {
    "name": "ipython",
    "version": 3
   },
   "file_extension": ".py",
   "mimetype": "text/x-python",
   "name": "python",
   "nbconvert_exporter": "python",
   "pygments_lexer": "ipython3",
   "version": "3.11.4"
  }
 },
 "nbformat": 4,
 "nbformat_minor": 5
}
