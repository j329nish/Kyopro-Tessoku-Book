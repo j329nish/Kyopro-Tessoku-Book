{
 "cells": [
  {
   "cell_type": "markdown",
   "id": "5a694fe9",
   "metadata": {},
   "source": [
    "# 2章 累積和"
   ]
  },
  {
   "cell_type": "markdown",
   "id": "ce6f6ec7",
   "metadata": {},
   "source": [
    "## 2.1 一次元の累積和（1）"
   ]
  },
  {
   "cell_type": "code",
   "execution_count": null,
   "id": "1324fb71",
   "metadata": {},
   "outputs": [
    {
     "name": "stdout",
     "output_type": "stream",
     "text": [
      "220\n",
      "212\n",
      "375\n"
     ]
    }
   ],
   "source": [
    "# A06\n",
    "n, q = map(int, input().split())\n",
    "a = list(map(int, input().split()))\n",
    "l = [None] * q\n",
    "r = [None] * q\n",
    "for i in range(q):\n",
    "  l[i], r[i] = map(int, input().split())\n",
    "\n",
    "s = [0] * (n + 1)\n",
    "for i in range(n):\n",
    "  s[i + 1] = s[i] + a[i]\n",
    "  \n",
    "for i in range(q):\n",
    "  print(s[r[i]] - s[l[i] - 1])"
   ]
  },
  {
   "cell_type": "code",
   "execution_count": 3,
   "id": "b90d9615",
   "metadata": {},
   "outputs": [
    {
     "name": "stdout",
     "output_type": "stream",
     "text": [
      "win\n",
      "draw\n",
      "lose\n"
     ]
    }
   ],
   "source": [
    "# B06\n",
    "n = int(input())\n",
    "a = list(map(int, input().split()))\n",
    "q = int(input())\n",
    "l = [None] * q\n",
    "r = [None] * q\n",
    "for i in range(q):\n",
    "  l[i], r[i] = map(int, input().split())\n",
    "  \n",
    "s_atari = [0] * (n + 1)\n",
    "s_hazure = [0] * (n + 1)\n",
    "for i in range(n):\n",
    "  if (a[i] == 1):\n",
    "    s_atari[i + 1] = s_atari[i] + 1\n",
    "    s_hazure[i + 1] = s_hazure[i]\n",
    "  else:\n",
    "    s_atari[i + 1] = s_atari[i]\n",
    "    s_hazure[i + 1] = s_hazure[i] + 1\n",
    "\n",
    "for i in range(q):\n",
    "  atari = s_atari[r[i]] - s_atari[l[i] - 1]\n",
    "  hazure = s_hazure[r[i]] - s_hazure[l[i] - 1]\n",
    "  if (atari > hazure):\n",
    "    print('win')\n",
    "  elif (atari == hazure) :\n",
    "    print('draw')\n",
    "  else:\n",
    "    print('lose')"
   ]
  },
  {
   "cell_type": "markdown",
   "id": "5b56fb9c",
   "metadata": {},
   "source": [
    "## 2.2 一次元の累積和（2）"
   ]
  },
  {
   "cell_type": "code",
   "execution_count": 5,
   "id": "c29ede82",
   "metadata": {},
   "outputs": [
    {
     "name": "stdout",
     "output_type": "stream",
     "text": [
      "1\n",
      "2\n",
      "4\n",
      "3\n",
      "4\n",
      "3\n",
      "2\n",
      "0\n"
     ]
    }
   ],
   "source": [
    "# A07\n",
    "d = int(input())\n",
    "n = int(input())\n",
    "l = [None] * n\n",
    "r = [None] * n\n",
    "for i in range(n):\n",
    "    l[i], r[i] = map(int, input().split())\n",
    "\n",
    "b = [0] * (d + 2)\n",
    "for i in range(n):\n",
    "    b[l[i]] += 1\n",
    "    b[r[i] + 1] -= 1\n",
    "\n",
    "answer = 0\n",
    "for i in range(1, d + 1):\n",
    "    answer += b[i]\n",
    "    print(answer)"
   ]
  },
  {
   "cell_type": "code",
   "execution_count": 7,
   "id": "cadb3746",
   "metadata": {},
   "outputs": [
    {
     "name": "stdout",
     "output_type": "stream",
     "text": [
      "2\n",
      "3\n",
      "4\n",
      "1\n",
      "0\n",
      "3\n",
      "0\n",
      "0\n",
      "0\n",
      "0\n"
     ]
    }
   ],
   "source": [
    "# B07\n",
    "t = int(input())\n",
    "n = int(input())\n",
    "l = [None] * n\n",
    "r = [None] * n\n",
    "for i in range(n):\n",
    "    l[i], r[i] = map(int, input().split())\n",
    "\n",
    "b = [0] * (t + 1)\n",
    "for i in range(n):\n",
    "    b[l[i]] += 1\n",
    "    b[r[i]] -= 1\n",
    "\n",
    "answer = 0\n",
    "for i in range(t):\n",
    "    answer += b[i]\n",
    "    print(answer) "
   ]
  },
  {
   "cell_type": "markdown",
   "id": "5a447fe6",
   "metadata": {},
   "source": [
    "## 2.3 二次元の累積和（1）"
   ]
  },
  {
   "cell_type": "code",
   "execution_count": 13,
   "id": "b85c7d68",
   "metadata": {},
   "outputs": [
    {
     "name": "stdout",
     "output_type": "stream",
     "text": [
      "25\n",
      "56\n"
     ]
    }
   ],
   "source": [
    "# A08\n",
    "h, w = map(int, input().split())\n",
    "x = [None] * h\n",
    "for i in range(h):\n",
    "    x[i] = list(map(int, input().split()))\n",
    "q = int(input())\n",
    "a, b, c, d = ([None] * q for _ in range(4))\n",
    "for i in range(q):\n",
    "    a[i], b[i], c[i], d[i] = map(int, input().split())\n",
    "\n",
    "z = [[0] * (w + 1) for _ in range(h + 1)]\n",
    "for i in range(h):\n",
    "    for j in range(w):\n",
    "        z[i + 1][j + 1] = z[i + 1][j] + x[i][j]\n",
    "\n",
    "for i in range(w):\n",
    "    for j in range(h):\n",
    "        z[j + 1][i + 1] = z[j][i + 1] + z[j + 1][i + 1]\n",
    "\n",
    "for i in range(q):\n",
    "    print(z[c[i]][d[i]] + z[a[i] - 1][b[i] - 1] - z[a[i] - 1][d[i]] - z[c[i]][b[i] - 1])"
   ]
  },
  {
   "cell_type": "code",
   "execution_count": 14,
   "id": "982a717e",
   "metadata": {},
   "outputs": [
    {
     "name": "stdout",
     "output_type": "stream",
     "text": [
      "5\n",
      "2\n",
      "4\n"
     ]
    }
   ],
   "source": [
    "# B08\n",
    "n = int(input())\n",
    "x = [None] * n\n",
    "y = [None] * n\n",
    "for i in range(n):\n",
    "    x[i], y[i] = map(int, input().split())\n",
    "q = int(input())\n",
    "a, b, c, d = ([None] * q for _ in range(4))\n",
    "for i in range(q):\n",
    "    a[i], b[i], c[i], d[i] = map(int, input().split())\n",
    "\n",
    "s = [[0] * 1501 for _ in range(1501)]\n",
    "for i in range(n):\n",
    "    s[x[i]][y[i]] += 1\n",
    "\n",
    "z = [[0] * 1501 for _ in range(1501)]\n",
    "for i in range(1, 1501):\n",
    "    for j in range(1, 1501):\n",
    "        z[i][j] = z[i][j - 1] + s[i][j]\n",
    "\n",
    "for i in range(1, 1501):\n",
    "    for j in range(1, 1501):\n",
    "        z[j][i] = z[j - 1][i] + z[j][i]\n",
    "\n",
    "for i in range(q):\n",
    "    print(z[c[i]][d[i]] + z[a[i] - 1][b[i] - 1] - z[a[i] - 1][d[i]] - z[c[i]][b[i] - 1])"
   ]
  },
  {
   "cell_type": "markdown",
   "id": "05382c28",
   "metadata": {},
   "source": [
    "## 2.4 二次元の累積和（2）"
   ]
  },
  {
   "cell_type": "code",
   "execution_count": 15,
   "id": "fb9b30d4",
   "metadata": {},
   "outputs": [
    {
     "name": "stdout",
     "output_type": "stream",
     "text": [
      "1 1 1 0 0 \n",
      "1 2 2 1 0 \n",
      "1 2 2 1 0 \n",
      "0 1 1 1 0 \n",
      "0 0 0 0 0 \n"
     ]
    }
   ],
   "source": [
    "# A09\n",
    "h, w, n = map(int, input().split())\n",
    "a, b, c, d = ([None] * n for _ in range(4))\n",
    "for i in range(n):\n",
    "    a[i], b[i], c[i], d[i] = map(int, input().split())\n",
    "\n",
    "z = [[0] * (w + 2) for _ in range(h + 2)]\n",
    "for i in range(n):\n",
    "    z[a[i]][b[i]] += 1\n",
    "    z[a[i]][d[i] + 1] -= 1\n",
    "    z[c[i] + 1][b[i]] -= 1\n",
    "    z[c[i] + 1][d[i] + 1] += 1\n",
    "\n",
    "for i in range(1, h + 1):\n",
    "    for j in range(1, w + 1):\n",
    "        z[i][j] += z[i][j - 1]\n",
    "for i in range(1, w + 1):\n",
    "    for j in range(1, h + 1):\n",
    "        z[j][i] += z[j - 1][i]\n",
    "\n",
    "for i in range(1, h + 1):\n",
    "    for j in range(1, w + 1):\n",
    "        print(z[i][j], end=' ')\n",
    "    print('')"
   ]
  },
  {
   "cell_type": "code",
   "execution_count": null,
   "id": "1931c428",
   "metadata": {},
   "outputs": [
    {
     "name": "stdout",
     "output_type": "stream",
     "text": [
      "7\n"
     ]
    }
   ],
   "source": [
    "# B09\n",
    "n = int(input())\n",
    "a, b, c, d = ([None] * n for _ in range(4))\n",
    "for i in range(n):\n",
    "    a[i], b[i], c[i], d[i] = map(int, input().split())\n",
    "\n",
    "z = [[0] * 1501 for _ in range(1501)]\n",
    "for i in range(n):\n",
    "    z[a[i]][b[i]] += 1\n",
    "    z[a[i]][d[i]] -= 1\n",
    "    z[c[i]][b[i]] -= 1\n",
    "    z[c[i]][d[i]] += 1\n",
    "\n",
    "for i in range(1501):\n",
    "    for j in range(1, 1501):\n",
    "        z[i][j] += z[i][j - 1]\n",
    "\n",
    "for i in range(1501):\n",
    "    for j in range(1, 1501):\n",
    "        z[j][i] += z[j - 1][i]\n",
    "\n",
    "answer = 0\n",
    "for i in range(1501):\n",
    "    for j in range(1501):\n",
    "        if (z[i][j] >= 1):\n",
    "            answer += 1\n",
    "\n",
    "print(answer)"
   ]
  },
  {
   "cell_type": "markdown",
   "id": "a5f4f3aa",
   "metadata": {},
   "source": [
    "## 2.5 チャレンジ問題"
   ]
  },
  {
   "cell_type": "code",
   "execution_count": 17,
   "id": "d4885a56",
   "metadata": {},
   "outputs": [
    {
     "name": "stdout",
     "output_type": "stream",
     "text": [
      "3\n",
      "5\n"
     ]
    }
   ],
   "source": [
    "# A10\n",
    "n = int(input())\n",
    "a = list(map(int, input().split()))\n",
    "d = int(input())\n",
    "l = [None] * d\n",
    "r = [None] * d\n",
    "for i in range(d):\n",
    "    l[i], r[i] = map(int, input().split())\n",
    "\n",
    "p = [0] * n\n",
    "q = [0] * n\n",
    "p[0] = a[0]\n",
    "q[n - 1] = a[n - 1]\n",
    "for i in range(1, n):\n",
    "    p[i] = max(p[i - 1], a[i])\n",
    "for i in reversed(range(n - 1)):\n",
    "    q[i] = max(q[i + 1], a[i])\n",
    "\n",
    "for i in range(d):\n",
    "    print(max(p[l[i] - 2], q[r[i]]))"
   ]
  }
 ],
 "metadata": {
  "kernelspec": {
   "display_name": "atcoder",
   "language": "python",
   "name": "atcoder"
  },
  "language_info": {
   "codemirror_mode": {
    "name": "ipython",
    "version": 3
   },
   "file_extension": ".py",
   "mimetype": "text/x-python",
   "name": "python",
   "nbconvert_exporter": "python",
   "pygments_lexer": "ipython3",
   "version": "3.11.4"
  }
 },
 "nbformat": 4,
 "nbformat_minor": 5
}
