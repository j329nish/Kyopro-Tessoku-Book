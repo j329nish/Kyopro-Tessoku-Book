{
 "cells": [
  {
   "cell_type": "markdown",
   "id": "2343d70e",
   "metadata": {},
   "source": [
    "# 6章 考察テクニック"
   ]
  },
  {
   "cell_type": "markdown",
   "id": "203dca25",
   "metadata": {},
   "source": [
    "## 6.1 偶奇を考える"
   ]
  },
  {
   "cell_type": "code",
   "execution_count": 1,
   "id": "7158d4d9",
   "metadata": {},
   "outputs": [
    {
     "name": "stdout",
     "output_type": "stream",
     "text": [
      "Yes\n"
     ]
    }
   ],
   "source": [
    "# A36\n",
    "N, K = map(int, input().split())\n",
    "if (K >= 2*N-2 and K % 2 == 0):\n",
    "    print('Yes')\n",
    "else:\n",
    "    print('No')"
   ]
  },
  {
   "cell_type": "code",
   "execution_count": 2,
   "id": "96b1663e",
   "metadata": {},
   "outputs": [
    {
     "name": "stdout",
     "output_type": "stream",
     "text": [
      "Yes\n"
     ]
    }
   ],
   "source": [
    "# B36\n",
    "N, K = map(int, input().split())\n",
    "S = input()\n",
    "if (S.count('1') % 2 == K % 2):\n",
    "    print('Yes')\n",
    "else:\n",
    "    print('No')"
   ]
  },
  {
   "cell_type": "markdown",
   "id": "7aed9f6f",
   "metadata": {},
   "source": [
    "## 6.2 足された回数を考える"
   ]
  },
  {
   "cell_type": "code",
   "execution_count": 4,
   "id": "78157b59",
   "metadata": {},
   "outputs": [
    {
     "name": "stdout",
     "output_type": "stream",
     "text": [
      "702\n"
     ]
    }
   ],
   "source": [
    "# A37\n",
    "N, M, B = map(int, input().split())\n",
    "A = list(map(int, input().split()))\n",
    "C = list(map(int, input().split()))\n",
    "print(sum(A)*M + sum(C)*N + B*N*M)"
   ]
  },
  {
   "cell_type": "code",
   "execution_count": 5,
   "id": "8d5ac4f8",
   "metadata": {},
   "outputs": [
    {
     "name": "stdout",
     "output_type": "stream",
     "text": [
      "10\n"
     ]
    }
   ],
   "source": [
    "# B37\n",
    "N = int(input())\n",
    "Power10 = [10**i for i in range(17)]\n",
    "R = [[None] * 10 for i in range(17)]\n",
    "\n",
    "for i in range(16):\n",
    "    digit = (N // Power10[i]) % 10\n",
    "    for j in range(10):\n",
    "        if (j < digit):\n",
    "            R[i][j] = (N // Power10[i+1] + 1) * Power10[i]\n",
    "        if (j == digit):\n",
    "            R[i][j] = (N // Power10[i+1]) * Power10[i] + (N % Power10[i]) + 1\n",
    "        if (j > digit):\n",
    "            R[i][j] = (N // Power10[i+1]) * Power10[i]\n",
    "\n",
    "Answer = 0\n",
    "for i in range(16):\n",
    "    for j in range(10):\n",
    "        Answer += j * R[i][j]\n",
    "print(Answer)"
   ]
  },
  {
   "cell_type": "markdown",
   "id": "3247530f",
   "metadata": {},
   "source": [
    "## 6.3 上限値を考える"
   ]
  },
  {
   "cell_type": "code",
   "execution_count": 6,
   "id": "97468be5",
   "metadata": {},
   "outputs": [
    {
     "name": "stdout",
     "output_type": "stream",
     "text": [
      "100\n"
     ]
    }
   ],
   "source": [
    "# A38\n",
    "D, N = map(int, input().split())\n",
    "L, R, H = [None] * N, [None] * N, [None] * N\n",
    "for i in range(N):\n",
    "    L[i], R[i], H[i] = map(int, input().split())\n",
    "\n",
    "LIM = [24] * (D+1)\n",
    "for i in range(N):\n",
    "    for j in range(L[i], R[i]+1):\n",
    "        LIM[j] = min(LIM[j], H[i])\n",
    "\n",
    "Answer = 0\n",
    "for i in range(1, D+1):\n",
    "    Answer += LIM[i]\n",
    "print(Answer)"
   ]
  },
  {
   "cell_type": "code",
   "execution_count": 7,
   "id": "771cf4d7",
   "metadata": {},
   "outputs": [
    {
     "name": "stdout",
     "output_type": "stream",
     "text": [
      "15\n"
     ]
    }
   ],
   "source": [
    "# B38\n",
    "N = int(input())\n",
    "S = input()\n",
    "ret1 = [1] * N\n",
    "ret2 = [1] * N\n",
    "\n",
    "for i in range(N-1):\n",
    "    if (S[i] == 'A'):\n",
    "        ret1[i+1] = ret1[i] + 1\n",
    "for i in reversed(range(N-1)):\n",
    "    if (S[i] == 'B'):\n",
    "        ret2[i] = ret2[i+1] + 1\n",
    "\n",
    "Answer = 0\n",
    "for i in range(N):\n",
    "    Answer += max(ret1[i], ret2[i])\n",
    "print(Answer)"
   ]
  },
  {
   "cell_type": "markdown",
   "id": "361f4e76",
   "metadata": {},
   "source": [
    "## 6.4 一手先を考える"
   ]
  },
  {
   "cell_type": "code",
   "execution_count": 9,
   "id": "72624713",
   "metadata": {},
   "outputs": [
    {
     "name": "stdout",
     "output_type": "stream",
     "text": [
      "2\n"
     ]
    }
   ],
   "source": [
    "# A39\n",
    "N = int(input())\n",
    "A = [None] * N\n",
    "for i in range(N):\n",
    "    A[i] = list(map(int, input().split()))\n",
    "A.sort(key=lambda val: val[1])\n",
    "\n",
    "Current = 0\n",
    "Answer = 0\n",
    "for i in range(N):\n",
    "    if (Current <= A[i][0]):\n",
    "        Current = A[i][1]\n",
    "        Answer += 1\n",
    "print(Answer)"
   ]
  },
  {
   "cell_type": "code",
   "execution_count": 1,
   "id": "0309359a",
   "metadata": {},
   "outputs": [
    {
     "name": "stdout",
     "output_type": "stream",
     "text": [
      "12\n"
     ]
    }
   ],
   "source": [
    "# B39\n",
    "N, D = map(int, input().split())\n",
    "A = [None] * N\n",
    "for i in range(N):\n",
    "    A[i] = list(map(int, input().split()))\n",
    "A.sort()\n",
    "used = [False] * N\n",
    "\n",
    "Answer = 0\n",
    "for i in range(1, D+1):\n",
    "    Max = -1\n",
    "    MaxId = -1\n",
    "    for j in range(N):\n",
    "        if (A[j][0] > i):\n",
    "            break\n",
    "        if (used[j] == False and A[j][1] > Max):\n",
    "            Max = A[j][1]\n",
    "            MaxId = j\n",
    "    if (MaxId != -1):\n",
    "      used[MaxId] = True\n",
    "      Answer += Max\n",
    "print(Answer)"
   ]
  },
  {
   "cell_type": "markdown",
   "id": "2224b113",
   "metadata": {},
   "source": [
    "## 6.5 個数を考える"
   ]
  },
  {
   "cell_type": "code",
   "execution_count": 2,
   "id": "2ed866e3",
   "metadata": {},
   "outputs": [
    {
     "name": "stdout",
     "output_type": "stream",
     "text": [
      "5\n"
     ]
    }
   ],
   "source": [
    "# A40\n",
    "import collections\n",
    "N = int(input())\n",
    "A = list(map(int, input().split()))\n",
    "c = collections.Counter(A)\n",
    "cnt = list(c.values())\n",
    "\n",
    "Answer = 0\n",
    "for i in range(len(cnt)):\n",
    "    Answer += cnt[i] * (cnt[i]-1) * (cnt[i]-2) // 6\n",
    "print(Answer)"
   ]
  },
  {
   "cell_type": "code",
   "execution_count": 3,
   "id": "f7c4b5fb",
   "metadata": {},
   "outputs": [
    {
     "name": "stdout",
     "output_type": "stream",
     "text": [
      "4\n"
     ]
    }
   ],
   "source": [
    "# B40\n",
    "N = int(input())\n",
    "A = list(map(int, input().split()))\n",
    "cnt = [0] * 100\n",
    "for i in range(N):\n",
    "    cnt[A[i] % 100] += 1\n",
    "\n",
    "Answer = cnt[0]*(cnt[0]-1)//2 + cnt[50]*(cnt[50]-1)//2\n",
    "for i in range(1, 50):\n",
    "    Answer += cnt[i] * cnt[-i]\n",
    "print(Answer)"
   ]
  },
  {
   "cell_type": "markdown",
   "id": "569af5dc",
   "metadata": {},
   "source": [
    "## 6.6 後ろから考える"
   ]
  },
  {
   "cell_type": "code",
   "execution_count": 1,
   "id": "1a74151c",
   "metadata": {},
   "outputs": [
    {
     "name": "stdout",
     "output_type": "stream",
     "text": [
      "Yes\n"
     ]
    }
   ],
   "source": [
    "# A41\n",
    "N = int(input())\n",
    "S = input()\n",
    "LEN = 1\n",
    "Current = S[0]\n",
    "for i in range(1, N):\n",
    "    if (S[i] == Current):\n",
    "        LEN += 1\n",
    "    else:\n",
    "        LEN = 1\n",
    "        Current = S[i]\n",
    "    if (LEN >= 3):\n",
    "        break\n",
    "\n",
    "if (LEN >= 3):\n",
    "    print('Yes')\n",
    "else:\n",
    "    print('No')"
   ]
  },
  {
   "cell_type": "code",
   "execution_count": 2,
   "metadata": {},
   "outputs": [
    {
     "name": "stdout",
     "output_type": "stream",
     "text": [
      "3\n",
      "1 2\n",
      "3 2\n",
      "5 2\n"
     ]
    }
   ],
   "source": [
    "# B41\n",
    "X, Y = map(int, input().split())\n",
    "dp = [[X, Y]]\n",
    "x, y = X, Y\n",
    "while (True):\n",
    "    if (x == y):\n",
    "        break\n",
    "    elif (x > y):\n",
    "        x -= y\n",
    "    else:\n",
    "        y -= x\n",
    "    dp.append([x, y])\n",
    "\n",
    "print(len(dp)-1)\n",
    "for i in reversed(range(len(dp)-1)):\n",
    "    print(dp[i][0], dp[i][1])"
   ]
  },
  {
   "cell_type": "markdown",
   "id": "c45e0b67",
   "metadata": {},
   "source": [
    "## 6.7　固定して全探索"
   ]
  },
  {
   "cell_type": "code",
   "execution_count": 3,
   "id": "ff6e1fa5",
   "metadata": {},
   "outputs": [
    {
     "name": "stdout",
     "output_type": "stream",
     "text": [
      "3\n"
     ]
    }
   ],
   "source": [
    "# A42\n",
    "N, K = map(int, input().split())\n",
    "A, B = [None] * N, [None] * N\n",
    "LIM = 100\n",
    "for i in range(N):\n",
    "    A[i], B[i] = map(int, input().split())\n",
    "\n",
    "def GetScore(a, b, A, B, K):\n",
    "    cnt = 0\n",
    "    for i in range(N):\n",
    "        if (a <= A[i] and A[i] <= a + K and b <= B[i] and B[i] <= b + K):\n",
    "            cnt += 1\n",
    "    return cnt\n",
    "\n",
    "Answer = 0\n",
    "for i in range(1, LIM+1):\n",
    "    for j in range(1, LIM+1):\n",
    "        Answer = max(Answer, GetScore(i, j, A, B, K))\n",
    "print(Answer)"
   ]
  },
  {
   "cell_type": "code",
   "execution_count": 4,
   "id": "5935ced1",
   "metadata": {},
   "outputs": [
    {
     "name": "stdout",
     "output_type": "stream",
     "text": [
      "18\n"
     ]
    }
   ],
   "source": [
    "# B42\n",
    "N = int(input())\n",
    "A, B = [None] * N, [None] * N\n",
    "for i in range(N):\n",
    "    A[i], B[i] = map(int, input().split())\n",
    "\n",
    "def sum_ABS(A, B, omote, ura):\n",
    "    sum = 0\n",
    "    for i in range(N):\n",
    "        ABS = omote * A[i] + ura * B[i]\n",
    "        if (ABS > 0):\n",
    "            sum += ABS\n",
    "    return sum\n",
    "Answer = max(sum_ABS(A, B, 1, 1), sum_ABS(A, B, 1, -1), sum_ABS(A, B, -1, 1), sum_ABS(A, B, -1, -1))\n",
    "print(Answer)"
   ]
  },
  {
   "cell_type": "markdown",
   "id": "58c80a68",
   "metadata": {},
   "source": [
    "## 6.8 問題を言い換える"
   ]
  },
  {
   "cell_type": "code",
   "execution_count": 5,
   "id": "40b05537",
   "metadata": {},
   "outputs": [
    {
     "name": "stdout",
     "output_type": "stream",
     "text": [
      "80\n"
     ]
    }
   ],
   "source": [
    "# A43\n",
    "N, L = map(int, input().split())\n",
    "A, B = [None] * N, [None] * N\n",
    "for i in range(N):\n",
    "    A[i], B[i] = input().split()\n",
    "    A[i] = int(A[i])\n",
    "\n",
    "Answer = 0\n",
    "for i in range(N):\n",
    "    if (B[i] == 'E'):\n",
    "        LEN = L - A[i]\n",
    "    else:\n",
    "        LEN = A[i]\n",
    "    Answer = max(Answer, LEN)\n",
    "print(Answer)"
   ]
  },
  {
   "cell_type": "code",
   "execution_count": 7,
   "id": "89a437b1",
   "metadata": {},
   "outputs": [
    {
     "name": "stdout",
     "output_type": "stream",
     "text": [
      "3\n",
      "5\n",
      "6\n",
      "4\n"
     ]
    }
   ],
   "source": [
    "# B43\n",
    "N, M = map(int, input().split())\n",
    "A = list(map(int, input().split()))\n",
    "Answer = [M] * (N+1)\n",
    "for i in range(M):\n",
    "    Answer[A[i]] -= 1\n",
    "for i in range(1, N+1):\n",
    "    print(Answer[i])"
   ]
  },
  {
   "cell_type": "markdown",
   "id": "d1caafff",
   "metadata": {},
   "source": [
    "## 6.9 データの持ち方を工夫する"
   ]
  },
  {
   "cell_type": "code",
   "execution_count": 8,
   "id": "97cc3319",
   "metadata": {},
   "outputs": [
    {
     "name": "stdout",
     "output_type": "stream",
     "text": [
      "2\n",
      "8\n"
     ]
    }
   ],
   "source": [
    "# A44\n",
    "N, Q = map(int, input().split())\n",
    "Query = [None] * Q\n",
    "for i in range(Q):\n",
    "    Query[i] = list(map(int, input().split()))\n",
    "A = [i+1 for i in range(N)]\n",
    "State = 1\n",
    "\n",
    "for i in range(Q):\n",
    "    if (Query[i][0] == 1):\n",
    "        if (State == 1):\n",
    "            A[Query[i][1]-1] = Query[i][2]\n",
    "        else:\n",
    "            A[Query[i][1]*-1] = Query[i][2]\n",
    "    elif (Query[i][0] == 2):\n",
    "        if (State == 1):\n",
    "            State = 2\n",
    "        else:\n",
    "            State = 1\n",
    "    else:\n",
    "        if (State == 1):\n",
    "            print(A[Query[i][1]-1])\n",
    "        else:\n",
    "            print(A[Query[i][1]*-1])"
   ]
  },
  {
   "cell_type": "code",
   "execution_count": null,
   "id": "e9b729ec",
   "metadata": {},
   "outputs": [
    {
     "name": "stdout",
     "output_type": "stream",
     "text": [
      "4\n",
      "1\n",
      "6\n",
      "9\n",
      "2\n"
     ]
    }
   ],
   "source": [
    "# B44\n",
    "N = int(input())\n",
    "A = [None] * N\n",
    "for i in range(N):\n",
    "    A[i] = list(map(int, input().split()))\n",
    "Q = int(input())\n",
    "Query = [None] * Q\n",
    "for i in range(Q):\n",
    "    Query[i] = list(map(int, input().split()))\n",
    "State = [i for i in range(N+1)]\n",
    "\n",
    "for i in range(Q):\n",
    "    if (Query[i][0] == 1):\n",
    "        tmp = State[Query[i][1]]\n",
    "        State[Query[i][1]] = State[Query[i][2]]\n",
    "        State[Query[i][2]] = tmp\n",
    "    else:\n",
    "        print(A[State[Query[i][1]]-1][Query[i][2]-1])"
   ]
  },
  {
   "cell_type": "markdown",
   "id": "13afe70d",
   "metadata": {},
   "source": [
    "## 6.10 不変量に着目する"
   ]
  },
  {
   "cell_type": "code",
   "execution_count": 11,
   "id": "0915cb16",
   "metadata": {},
   "outputs": [
    {
     "name": "stdout",
     "output_type": "stream",
     "text": [
      "Yes\n"
     ]
    }
   ],
   "source": [
    "# A45\n",
    "N, C = input().split()\n",
    "N = int(N)\n",
    "A = input()\n",
    "score = 0\n",
    "for i in range(N):\n",
    "    if (A[i] == 'B'):\n",
    "        score += 1\n",
    "    elif (A[i] == 'R'):\n",
    "        score += 2\n",
    "\n",
    "if (score % 3 == 0 and C == 'W'):\n",
    "    print('Yes')\n",
    "elif (score % 3 == 1 and C == 'B'):\n",
    "    print('Yes')\n",
    "elif (score % 3 == 2 and C == 'R'):\n",
    "    print('Yes')\n",
    "else:\n",
    "    print('No')"
   ]
  },
  {
   "cell_type": "code",
   "execution_count": 12,
   "id": "a84a47b7",
   "metadata": {},
   "outputs": [
    {
     "name": "stdout",
     "output_type": "stream",
     "text": [
      "Yes\n"
     ]
    }
   ],
   "source": [
    "# B45\n",
    "a, b, c = map(int, input().split())\n",
    "if (a + b + c == 0):\n",
    "    print('Yes')\n",
    "else:\n",
    "    print('No')"
   ]
  }
 ],
 "metadata": {
  "kernelspec": {
   "display_name": "atcoder",
   "language": "python",
   "name": "atcoder"
  },
  "language_info": {
   "codemirror_mode": {
    "name": "ipython",
    "version": 3
   },
   "file_extension": ".py",
   "mimetype": "text/x-python",
   "name": "python",
   "nbconvert_exporter": "python",
   "pygments_lexer": "ipython3",
   "version": "3.11.4"
  }
 },
 "nbformat": 4,
 "nbformat_minor": 5
}
