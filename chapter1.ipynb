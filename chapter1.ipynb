{
  "cells": [
    {
      "cell_type": "markdown",
      "metadata": {
        "id": "_A7VFW8bN63y"
      },
      "source": [
        "# 1章 アルゴリズムと計算量"
      ]
    },
    {
      "cell_type": "markdown",
      "metadata": {
        "id": "rymHHVdXN348"
      },
      "source": [
        "## 1.1 導入問題"
      ]
    },
    {
      "cell_type": "code",
      "execution_count": 6,
      "metadata": {
        "id": "dH_g3cbdN6ev"
      },
      "outputs": [
        {
          "name": "stdout",
          "output_type": "stream",
          "text": [
            "4\n"
          ]
        }
      ],
      "source": [
        "## A01\n",
        "n = int(input())\n",
        "print(n * n)"
      ]
    },
    {
      "cell_type": "code",
      "execution_count": 4,
      "metadata": {},
      "outputs": [
        {
          "name": "stdout",
          "output_type": "stream",
          "text": [
            "2\n"
          ]
        }
      ],
      "source": [
        "## B01\n",
        "a, b = map(int, input().split())\n",
        "print(a + b)"
      ]
    },
    {
      "cell_type": "markdown",
      "metadata": {
        "id": "MFK-VjeKNyyS"
      },
      "source": [
        "## 1.2 全探索（1）"
      ]
    },
    {
      "cell_type": "code",
      "execution_count": 7,
      "metadata": {
        "id": "-AqsRNA6NyJ4"
      },
      "outputs": [
        {
          "name": "stdout",
          "output_type": "stream",
          "text": [
            "Yes\n"
          ]
        }
      ],
      "source": [
        "## A02\n",
        "n, x = map(int, input().split())\n",
        "a = list(map(int, input().split()))\n",
        "answer = 'No'\n",
        "\n",
        "for i in range(n):\n",
        "  if (a[i] == x):\n",
        "    answer = 'Yes'\n",
        "    break\n",
        "  \n",
        "print(answer)"
      ]
    },
    {
      "cell_type": "code",
      "execution_count": 8,
      "metadata": {},
      "outputs": [
        {
          "name": "stdout",
          "output_type": "stream",
          "text": [
            "Yes\n"
          ]
        }
      ],
      "source": [
        "## B02\n",
        "a, b = map(int, input().split())\n",
        "answer = 'No'\n",
        "\n",
        "for i in range(a, b + 1):\n",
        "  if (100 % i == 0):\n",
        "    answer = 'Yes'\n",
        "    \n",
        "print(answer)"
      ]
    },
    {
      "cell_type": "markdown",
      "metadata": {},
      "source": [
        "## 1.3 全探索（2）"
      ]
    },
    {
      "cell_type": "code",
      "execution_count": 9,
      "metadata": {},
      "outputs": [
        {
          "name": "stdout",
          "output_type": "stream",
          "text": [
            "No\n"
          ]
        }
      ],
      "source": [
        "## A03\n",
        "n, k = map(int, input().split())\n",
        "p = list(map(int, input().split()))\n",
        "q = list(map(int, input().split()))\n",
        "answer = 'No'\n",
        "\n",
        "for i in range(n):\n",
        "  for j in range(n):\n",
        "    if (p[i] + q[j] == k):\n",
        "      answer = 'Yes'\n",
        "      break\n",
        "    \n",
        "print(answer)"
      ]
    },
    {
      "cell_type": "code",
      "execution_count": null,
      "metadata": {},
      "outputs": [
        {
          "name": "stdout",
          "output_type": "stream",
          "text": [
            "Yes\n"
          ]
        }
      ],
      "source": [
        "## B03\n",
        "n = int(input())\n",
        "a = list(map(int, input().split()))\n",
        "answer = 'No'\n",
        "\n",
        "for i in range(n - 2):\n",
        "  for j in range(i + 1, n - 1):\n",
        "    for k in range(j + 1, n):\n",
        "      if (a[i] + a[j] + a[k] == 1000):\n",
        "        answer = 'Yes'\n",
        "        break\n",
        "        \n",
        "print(answer)"
      ]
    },
    {
      "cell_type": "markdown",
      "metadata": {},
      "source": [
        "## 1.4 2進法"
      ]
    },
    {
      "cell_type": "code",
      "execution_count": 11,
      "metadata": {},
      "outputs": [
        {
          "name": "stdout",
          "output_type": "stream",
          "text": [
            "0000001101\n"
          ]
        }
      ],
      "source": [
        "## A04\n",
        "n = int(input())\n",
        "for i in reversed(range(10)):\n",
        "  print((n // (2 ** i)) % 2, end='')\n",
        "print('')"
      ]
    },
    {
      "cell_type": "code",
      "execution_count": 1,
      "metadata": {},
      "outputs": [
        {
          "name": "stdout",
          "output_type": "stream",
          "text": [
            "13\n"
          ]
        }
      ],
      "source": [
        "## B04\n",
        "n = input()\n",
        "answer = 0\n",
        "for i in range(len(n)):\n",
        "  if (n[i] == '1'):\n",
        "    answer += 2 ** (len(n) - 1 - i)\n",
        "print(answer)"
      ]
    },
    {
      "cell_type": "markdown",
      "metadata": {},
      "source": [
        "## 1.5 チャレンジ問題"
      ]
    },
    {
      "cell_type": "code",
      "execution_count": null,
      "metadata": {},
      "outputs": [
        {
          "name": "stdout",
          "output_type": "stream",
          "text": [
            "7\n"
          ]
        }
      ],
      "source": [
        "## A05\n",
        "n, k = map(int, input().split())\n",
        "answer = 0\n",
        "\n",
        "for x in range(1, n + 1):\n",
        "  for y in range(1, n + 1):\n",
        "    z = k - x - y\n",
        "    if (z >= 1 and z <= n):\n",
        "      answer += 1\n",
        "\n",
        "print(answer)"
      ]
    }
  ],
  "metadata": {
    "colab": {
      "provenance": []
    },
    "kernelspec": {
      "display_name": "atcoder",
      "language": "python",
      "name": "atcoder"
    },
    "language_info": {
      "codemirror_mode": {
        "name": "ipython",
        "version": 3
      },
      "file_extension": ".py",
      "mimetype": "text/x-python",
      "name": "python",
      "nbconvert_exporter": "python",
      "pygments_lexer": "ipython3",
      "version": "3.11.4"
    }
  },
  "nbformat": 4,
  "nbformat_minor": 0
}
